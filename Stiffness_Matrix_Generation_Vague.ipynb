{
 "cells": [
  {
   "cell_type": "code",
   "execution_count": 1,
   "metadata": {},
   "outputs": [],
   "source": [
    "import numpy as np\n",
    "import matplotlib.pyplot as plt\n",
    "import math\n",
    "from mpl_toolkits import mplot3d"
   ]
  },
  {
   "cell_type": "markdown",
   "metadata": {},
   "source": [
    "## Rough implementation of Stiffness Matrix generation"
   ]
  },
  {
   "cell_type": "markdown",
   "metadata": {},
   "source": [
    "### Parameters"
   ]
  },
  {
   "cell_type": "code",
   "execution_count": 28,
   "metadata": {},
   "outputs": [
    {
     "name": "stdout",
     "output_type": "stream",
     "text": [
      "-0.5774\n",
      "1\n",
      "0.2113\n",
      "1.2113\n"
     ]
    }
   ],
   "source": [
    "ncpx =2 # No.control points in x direction\n",
    "ncpy =2 # No.control points in y direction\n",
    "ncp = ncpx*ncpy\n",
    "ndof = 2\n",
    "# Gauss points and corresponding weights in a single matrix\n",
    "# This matrix will depend on the type of problem. So have to change in parameters. \n",
    "# Or alternatively create a function\n",
    "GPs_Ws = np.array([[-0.5774,-0.5774,1],[0.5774,-0.5774,1],[0.5774,0.5774,1],[-0.5774,0.5774,1]])\n",
    "#GPs_Ws[:,2] gauss weights\n",
    "#GPs_Ws[:,0:2] gauss points\n",
    "\n",
    "#Have to see how to make it work for multiple elements\n",
    "nel = 1 #Total number of elements\n",
    "\n",
    "necp =1 #Total number of control points in an element \n",
    "#Caution have to check on what it depends\n",
    "gp=GPs_Ws[0,0:2]\n",
    "\n",
    "\n",
    "##############DELETE##########DELETE############\n",
    "print(gp[0])\n",
    "elU = np.array([0,1])\n",
    "elV = np.array([1,2])\n",
    "print(elU[1])\n",
    "xi_para = gp[0]\n",
    "eta_para = gp[1]\n",
    "xi = 0.5*((elU[1]-elU[0])*xi_para + (elU[1]+elU[0]))\n",
    "eta = 0.5*((elV[1]-elV[0])*eta_para + (elV[1]+elV[0]))\n",
    "print(xi)\n",
    "print(eta)"
   ]
  },
  {
   "cell_type": "markdown",
   "metadata": {},
   "source": [
    "### Stiffness matrix for 2D case with u1 and u2 dof"
   ]
  },
  {
   "cell_type": "code",
   "execution_count": null,
   "metadata": {},
   "outputs": [],
   "source": [
    "KG = np.zeros(ndof*ncp,ndof*ncp) #Initiating Global K matrix\n",
    "RHSG = np.zeros(ndof*ncp,1) # Initiating Global RHS matrix\n",
    "for i in range(nel):\n",
    "    Ke=np.zeros(ndof*necp,ndof*necp)\n",
    "    B=np.zeros(3,ndof*necp) #Dimentions depends on type of application\n",
    "    elU = np.array([0,1]) #Manually defined have to generate using connectivity functions\n",
    "    elV = np.array([0,1]) #Manually defined have to generate using connectivity functions\n",
    "    \n",
    "    for j in range(np.shape(GPs_Ws)[0]): #Computes number of gauss points from GP matrix provided\n",
    "        gp = GPs_Ws[j,0:2]\n",
    "        wg = GPs_Ws[j,2]\n",
    "        xi_para = gp[0]\n",
    "        eta_para = gp[1]\n",
    "        xi = 0.5*((elU[1]-elU[0])*xi_para + (elU[1]+elU[0]))\n",
    "        eta = 0.5*((elV[1]-elV[0])*eta_para + (elV[1]+elV[0]))\n",
    "        dxi_dxi_para = 0.5*(elU[1]-elU[0])\n",
    "        deta_deta_para = 0.5*(elV[1]-elV[0]) \n",
    "        J2 = dxi_dxi_para*deta_deta_para\n",
    "        \n",
    "        #--------Evaluation of NURBS basis functions derivatives---------#\n",
    "        # We are finding the derivative at gauss points\n",
    "        \n",
    "        "
   ]
  }
 ],
 "metadata": {
  "kernelspec": {
   "display_name": "Python 3",
   "language": "python",
   "name": "python3"
  },
  "language_info": {
   "codemirror_mode": {
    "name": "ipython",
    "version": 3
   },
   "file_extension": ".py",
   "mimetype": "text/x-python",
   "name": "python",
   "nbconvert_exporter": "python",
   "pygments_lexer": "ipython3",
   "version": "3.7.4"
  }
 },
 "nbformat": 4,
 "nbformat_minor": 2
}
