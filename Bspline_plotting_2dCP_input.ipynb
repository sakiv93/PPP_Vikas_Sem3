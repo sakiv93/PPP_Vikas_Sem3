{
 "cells": [
  {
   "cell_type": "code",
   "execution_count": 1,
   "metadata": {},
   "outputs": [],
   "source": [
    "import numpy as np\n",
    "import matplotlib.pyplot as plt"
   ]
  },
  {
   "cell_type": "code",
   "execution_count": 2,
   "metadata": {},
   "outputs": [],
   "source": [
    "# B-Spline basic function definition\n",
    "# It requires input i=,k=Degree of the function and u values which are knot values divided for generating curve\n",
    "def N(i,k,u):\n",
    "    #This has to be generated from knot vector function. Here its written manually\n",
    "    #t=np.array([0., 0., 0., 1., 2., 3., 4., 4.,4.])\n",
    "    if k==0:\n",
    "        if t[i] <= u < t[i+1]:\n",
    "            return 1\n",
    "        else:\n",
    "            return 0\n",
    "    else:\n",
    "        # If else loop is used to avoid division by zero.\n",
    "        if (t[i+k]-t[i]) == 0:\n",
    "            first_term=0\n",
    "        else:\n",
    "            first_term = ((u-t[i])*(N(i,k-1,u))/(t[i+k]-t[i]))\n",
    "        if (t[i+k+1]-t[i+1]) == 0:\n",
    "            second_term = 0\n",
    "        else:\n",
    "            second_term = ((t[i+k+1]-u)*(N(i+1,k-1,u))/(t[i+k+1]-t[i+1]))\n",
    "        #return(((u-t[i])*(N(i,k-1,u))/(t[i+k-1]-t[i])) + ((t[i+k]-u)*(N(i+1,k-1,u))/(t[i+k]-t[i+1])))\n",
    "        return(first_term+second_term)"
   ]
  },
  {
   "cell_type": "code",
   "execution_count": 3,
   "metadata": {},
   "outputs": [],
   "source": [
    "#Parameters\n",
    "control_points=7\n",
    "n=control_points-1\n",
    "degree=3\n",
    "number_of_segments=n-(degree+1)+2\n",
    "#u=np.arange(0,number_of_segments+1,1)"
   ]
  },
  {
   "cell_type": "code",
   "execution_count": 14,
   "metadata": {},
   "outputs": [],
   "source": [
    "P = np.array([[0.,0.],[2.,0.],[1.,4.],[7.,4.],[5.,-2.],[8.,-2.],[8.,2.]])\n",
    "t=np.array([0., 0., 0., 0., 1./4., 2./4., 3./4., 1.,1.,1.,1.])\n",
    "size_of_u = 1000\n",
    "B_spline=np.zeros((size_of_u,2))\n",
    "u_values=np.linspace(0,1,size_of_u)\n",
    "for j,uu in enumerate(u_values):\n",
    "    b_spline=np.array([0,0])\n",
    "    for ii in range(np.shape(P)[0]):\n",
    "        b_spline = b_spline + N(ii,degree,uu)*P[ii]\n",
    "    B_spline[j] = b_spline\n",
    "# Due to error we have to equate last term with last control point\n",
    "B_spline[size_of_u-1]=P[-1]"
   ]
  },
  {
   "cell_type": "code",
   "execution_count": 15,
   "metadata": {},
   "outputs": [
    {
     "data": {
      "text/plain": [
       "[<matplotlib.lines.Line2D at 0x8382a08>]"
      ]
     },
     "execution_count": 15,
     "metadata": {},
     "output_type": "execute_result"
    },
    {
     "data": {
      "image/png": "[encoded data removed]",
      "text/plain": [
       "<Figure size 432x288 with 1 Axes>"
      ]
     },
     "metadata": {
      "needs_background": "light"
     },
     "output_type": "display_data"
    }
   ],
   "source": [
    "fig,ax=plt.subplots()\n",
    "x=np.array(B_spline[:,0])\n",
    "y=np.array(B_spline[:,1])\n",
    "ax.plot(x,y)"
   ]
  },
  {
   "cell_type": "code",
   "execution_count": null,
   "metadata": {},
   "outputs": [],
   "source": []
  }
 ],
 "metadata": {
  "kernelspec": {
   "display_name": "Python 3",
   "language": "python",
   "name": "python3"
  },
  "language_info": {
   "codemirror_mode": {
    "name": "ipython",
    "version": 3
   },
   "file_extension": ".py",
   "mimetype": "text/x-python",
   "name": "python",
   "nbconvert_exporter": "python",
   "pygments_lexer": "ipython3",
   "version": "3.7.4"
  }
 },
 "nbformat": 4,
 "nbformat_minor": 2
}
