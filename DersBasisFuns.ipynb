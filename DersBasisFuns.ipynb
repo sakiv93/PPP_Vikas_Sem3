{
 "cells": [
  {
   "cell_type": "code",
   "execution_count": 1,
   "metadata": {},
   "outputs": [],
   "source": [
    "import numpy as np\n",
    "import matplotlib.pyplot as plt\n",
    "import math"
   ]
  },
  {
   "cell_type": "markdown",
   "metadata": {},
   "source": [
    "## Computing non zero basis functions and their derivatives"
   ]
  },
  {
   "cell_type": "code",
   "execution_count": 29,
   "metadata": {},
   "outputs": [],
   "source": [
    "def DersBasisFuns(i,u,p,n,U):\n",
    "    ndu=np.zeros((10,10))\n",
    "    ders=np.zeros((p+1,p+1))\n",
    "    a=np.zeros((10,10))\n",
    "    left =np.zeros(p+2)\n",
    "    right =np.zeros(p+2)\n",
    "    for j in range(p+1):\n",
    "        left[j] = u - U[i+1-j]\n",
    "        right[j] = U[i+j] - u\n",
    "        saved=0.0\n",
    "        for r in range(j):\n",
    "            #Lower triangle\n",
    "            ndu[j][r] = right[r+1]+left[j-r]\n",
    "            temp=ndu[r][j-1]/ndu[j][r]\n",
    "            #Upper triangle\n",
    "            ndu[r][j] = saved+right[r+1]*temp\n",
    "            saved=left[j-r]*temp\n",
    "        ndu[j][j] = saved\n",
    "    for j in range (p+1): #Load the basis functions\n",
    "        ders[0][j]=ndu[j][p]\n",
    "    #This secion computes the derivatives\n",
    "    for r in range(p+1):\n",
    "        s1=0\n",
    "        s2=0 #Alternative rows in array a\n",
    "        a[0][0] = 1.0\n",
    "        #Loop to compute kth derivative\n",
    "        for k in range(n+1):\n",
    "            d=0.0\n",
    "            rk=r-k\n",
    "            pk=p-k\n",
    "            if(r>=k):\n",
    "                a[s2][0]=a[s1][0]/ndu[pk+1][rk]\n",
    "                d=a[s2][0]*ndu[rk][pk]\n",
    "            if(rk>=-1):\n",
    "                j1=1\n",
    "            else:\n",
    "                j1=-rk\n",
    "            if(r-1<=pk):\n",
    "                j2=k-1\n",
    "            else:\n",
    "                j2=p-r\n",
    "            for j in range (j1,j2+1):\n",
    "                a[s2][j] =(a[s1][j]-a[s1][j-1])/ndu[pk+1][rk+j]\n",
    "                d += a[s2][j]*ndu[rk+j][pk]\n",
    "            if(r<=pk):\n",
    "                a[s2][k]=-a[s1][k-1]/ndu[pk+1][r]\n",
    "                d+=a[s2][k]*ndu[r][pk]\n",
    "            ders[k][r]=d\n",
    "            #Switch rows\n",
    "            j=s1\n",
    "            s1=s2\n",
    "            s2=j\n",
    "            #Multiply through by the correct factors\n",
    "            r=p\n",
    "            for k in range(n+1):\n",
    "                for j in range(p+1):\n",
    "                    ders[k][j] *= r\n",
    "                    r *= (p-k)\n",
    "    return ders"
   ]
  },
  {
   "cell_type": "markdown",
   "metadata": {},
   "source": [
    "## Test case"
   ]
  },
  {
   "cell_type": "code",
   "execution_count": 30,
   "metadata": {},
   "outputs": [
    {
     "name": "stderr",
     "output_type": "stream",
     "text": [
      "D:\\Install_Path\\Jupyter\\Install\\lib\\site-packages\\ipykernel_launcher.py:32: RuntimeWarning: divide by zero encountered in double_scalars\n",
      "D:\\Install_Path\\Jupyter\\Install\\lib\\site-packages\\ipykernel_launcher.py:33: RuntimeWarning: invalid value encountered in double_scalars\n",
      "D:\\Install_Path\\Jupyter\\Install\\lib\\site-packages\\ipykernel_launcher.py:46: RuntimeWarning: invalid value encountered in double_scalars\n"
     ]
    },
    {
     "ename": "IndexError",
     "evalue": "index 15 is out of bounds for axis 0 with size 10",
     "output_type": "error",
     "traceback": [
      "\u001b[1;31m---------------------------------------------------------------------------\u001b[0m",
      "\u001b[1;31mIndexError\u001b[0m                                Traceback (most recent call last)",
      "\u001b[1;32m<ipython-input-30-cef47443bd9e>\u001b[0m in \u001b[0;36m<module>\u001b[1;34m\u001b[0m\n\u001b[0;32m      2\u001b[0m \u001b[0mU\u001b[0m \u001b[1;33m=\u001b[0m \u001b[0mnp\u001b[0m\u001b[1;33m.\u001b[0m\u001b[0marray\u001b[0m\u001b[1;33m(\u001b[0m\u001b[1;33m[\u001b[0m\u001b[1;36m0.\u001b[0m\u001b[1;33m,\u001b[0m \u001b[1;36m0.\u001b[0m\u001b[1;33m,\u001b[0m \u001b[1;36m0.\u001b[0m\u001b[1;33m,\u001b[0m \u001b[1;36m1.\u001b[0m\u001b[1;33m,\u001b[0m\u001b[1;36m2.\u001b[0m\u001b[1;33m,\u001b[0m\u001b[1;36m3.\u001b[0m\u001b[1;33m,\u001b[0m\u001b[1;36m4.\u001b[0m\u001b[1;33m,\u001b[0m\u001b[1;36m4.\u001b[0m\u001b[1;33m,\u001b[0m\u001b[1;36m5.\u001b[0m\u001b[1;33m,\u001b[0m\u001b[1;36m5.\u001b[0m\u001b[1;33m,\u001b[0m\u001b[1;36m5.\u001b[0m\u001b[1;33m]\u001b[0m\u001b[1;33m)\u001b[0m\u001b[1;33m\u001b[0m\u001b[1;33m\u001b[0m\u001b[0m\n\u001b[0;32m      3\u001b[0m \u001b[0mu\u001b[0m\u001b[1;33m=\u001b[0m\u001b[1;36m2.5\u001b[0m\u001b[1;33m\u001b[0m\u001b[1;33m\u001b[0m\u001b[0m\n\u001b[1;32m----> 4\u001b[1;33m \u001b[0moutput\u001b[0m\u001b[1;33m=\u001b[0m\u001b[0mDersBasisFuns\u001b[0m\u001b[1;33m(\u001b[0m\u001b[1;36m4\u001b[0m\u001b[1;33m,\u001b[0m\u001b[0mu\u001b[0m\u001b[1;33m,\u001b[0m\u001b[0mp\u001b[0m\u001b[1;33m,\u001b[0m\u001b[1;36m1\u001b[0m\u001b[1;33m,\u001b[0m\u001b[0mU\u001b[0m\u001b[1;33m)\u001b[0m\u001b[1;33m\u001b[0m\u001b[1;33m\u001b[0m\u001b[0m\n\u001b[0m\u001b[0;32m      5\u001b[0m \u001b[0mprint\u001b[0m\u001b[1;33m(\u001b[0m\u001b[0moutput\u001b[0m\u001b[1;33m)\u001b[0m\u001b[1;33m\u001b[0m\u001b[1;33m\u001b[0m\u001b[0m\n",
      "\u001b[1;32m<ipython-input-29-71554a90a91e>\u001b[0m in \u001b[0;36mDersBasisFuns\u001b[1;34m(i, u, p, n, U)\u001b[0m\n\u001b[0;32m     30\u001b[0m             \u001b[0mpk\u001b[0m\u001b[1;33m=\u001b[0m\u001b[0mp\u001b[0m\u001b[1;33m-\u001b[0m\u001b[0mk\u001b[0m\u001b[1;33m\u001b[0m\u001b[1;33m\u001b[0m\u001b[0m\n\u001b[0;32m     31\u001b[0m             \u001b[1;32mif\u001b[0m\u001b[1;33m(\u001b[0m\u001b[0mr\u001b[0m\u001b[1;33m>=\u001b[0m\u001b[0mk\u001b[0m\u001b[1;33m)\u001b[0m\u001b[1;33m:\u001b[0m\u001b[1;33m\u001b[0m\u001b[1;33m\u001b[0m\u001b[0m\n\u001b[1;32m---> 32\u001b[1;33m                 \u001b[0ma\u001b[0m\u001b[1;33m[\u001b[0m\u001b[0ms2\u001b[0m\u001b[1;33m]\u001b[0m\u001b[1;33m[\u001b[0m\u001b[1;36m0\u001b[0m\u001b[1;33m]\u001b[0m\u001b[1;33m=\u001b[0m\u001b[0ma\u001b[0m\u001b[1;33m[\u001b[0m\u001b[0ms1\u001b[0m\u001b[1;33m]\u001b[0m\u001b[1;33m[\u001b[0m\u001b[1;36m0\u001b[0m\u001b[1;33m]\u001b[0m\u001b[1;33m/\u001b[0m\u001b[0mndu\u001b[0m\u001b[1;33m[\u001b[0m\u001b[0mpk\u001b[0m\u001b[1;33m+\u001b[0m\u001b[1;36m1\u001b[0m\u001b[1;33m]\u001b[0m\u001b[1;33m[\u001b[0m\u001b[0mrk\u001b[0m\u001b[1;33m]\u001b[0m\u001b[1;33m\u001b[0m\u001b[1;33m\u001b[0m\u001b[0m\n\u001b[0m\u001b[0;32m     33\u001b[0m                 \u001b[0md\u001b[0m\u001b[1;33m=\u001b[0m\u001b[0ma\u001b[0m\u001b[1;33m[\u001b[0m\u001b[0ms2\u001b[0m\u001b[1;33m]\u001b[0m\u001b[1;33m[\u001b[0m\u001b[1;36m0\u001b[0m\u001b[1;33m]\u001b[0m\u001b[1;33m*\u001b[0m\u001b[0mndu\u001b[0m\u001b[1;33m[\u001b[0m\u001b[0mrk\u001b[0m\u001b[1;33m]\u001b[0m\u001b[1;33m[\u001b[0m\u001b[0mpk\u001b[0m\u001b[1;33m]\u001b[0m\u001b[1;33m\u001b[0m\u001b[1;33m\u001b[0m\u001b[0m\n\u001b[0;32m     34\u001b[0m             \u001b[1;32mif\u001b[0m\u001b[1;33m(\u001b[0m\u001b[0mrk\u001b[0m\u001b[1;33m>=\u001b[0m\u001b[1;33m-\u001b[0m\u001b[1;36m1\u001b[0m\u001b[1;33m)\u001b[0m\u001b[1;33m:\u001b[0m\u001b[1;33m\u001b[0m\u001b[1;33m\u001b[0m\u001b[0m\n",
      "\u001b[1;31mIndexError\u001b[0m: index 15 is out of bounds for axis 0 with size 10"
     ]
    }
   ],
   "source": [
    "p=2\n",
    "U = np.array([0., 0., 0., 1.,2.,3.,4.,4.,5.,5.,5.])\n",
    "u=2.5\n",
    "output=DersBasisFuns(4,u,p,1,U)\n",
    "print(output)"
   ]
  },
  {
   "cell_type": "code",
   "execution_count": null,
   "metadata": {},
   "outputs": [],
   "source": []
  }
 ],
 "metadata": {
  "kernelspec": {
   "display_name": "Python 3",
   "language": "python",
   "name": "python3"
  },
  "language_info": {
   "codemirror_mode": {
    "name": "ipython",
    "version": 3
   },
   "file_extension": ".py",
   "mimetype": "text/x-python",
   "name": "python",
   "nbconvert_exporter": "python",
   "pygments_lexer": "ipython3",
   "version": "3.7.4"
  }
 },
 "nbformat": 4,
 "nbformat_minor": 2
}
