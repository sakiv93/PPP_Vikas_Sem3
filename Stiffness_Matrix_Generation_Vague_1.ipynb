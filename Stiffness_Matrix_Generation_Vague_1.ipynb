{
 "cells": [
  {
   "cell_type": "code",
   "execution_count": 1,
   "metadata": {},
   "outputs": [],
   "source": [
    "import numpy as np\n",
    "import matplotlib.pyplot as plt\n",
    "import math\n",
    "from scipy import special\n",
    "np.set_printoptions(threshold=np.inf)"
   ]
  },
  {
   "cell_type": "markdown",
   "metadata": {},
   "source": [
    "## Small example for binomial coefficient nCr using scipy"
   ]
  },
  {
   "cell_type": "code",
   "execution_count": 2,
   "metadata": {},
   "outputs": [
    {
     "name": "stdout",
     "output_type": "stream",
     "text": [
      "1.0\n"
     ]
    }
   ],
   "source": [
    "B=special.binom(0, 0) #binom(n,r)\n",
    "print(B)"
   ]
  },
  {
   "cell_type": "markdown",
   "metadata": {},
   "source": [
    "## Find Span"
   ]
  },
  {
   "cell_type": "code",
   "execution_count": 3,
   "metadata": {},
   "outputs": [],
   "source": [
    "def FindSpan(n_inp,degree_inp,u_inp,knot_vector_inp):\n",
    "    x=knot_vector_inp[degree_inp+1]\n",
    "    if (u_inp < x):\n",
    "        return degree_inp\n",
    "    else:\n",
    "        for i,pos in enumerate(knot_vector_inp):\n",
    "            if math.floor(u_inp) == pos:\n",
    "                return (i)"
   ]
  },
  {
   "cell_type": "markdown",
   "metadata": {},
   "source": [
    "## Non Zero Basis Functions"
   ]
  },
  {
   "cell_type": "code",
   "execution_count": 4,
   "metadata": {},
   "outputs": [],
   "source": [
    "#The output is stored in N[0],....N[p]\n",
    "#These are non zero functions in a given span\n",
    "#i is the span of the u value\n",
    "#we get N[i-p].........,N[i]\n",
    "# So if i is 3 then N[3] is stored in N[p] of the output matrix\n",
    "def BasisFuns(i,u,p,U):\n",
    "    N =np.zeros(p+1)\n",
    "    N[0] = 1.0\n",
    "    left =np.zeros(p+2)\n",
    "    right =np.zeros(p+2)\n",
    "    for j in range(1,p+1):\n",
    "        left[j] = u - U[i+1-j]\n",
    "        right[j] = U[i+j] - u\n",
    "        saved= 0.0\n",
    "        for r in range(0,j):\n",
    "            temp = N[r]/(right[r+1]+left[j-r])\n",
    "            N[r] = saved + right[r+1]*temp\n",
    "            saved = left[j-r]*temp\n",
    "        N[j] = saved\n",
    "    return N"
   ]
  },
  {
   "cell_type": "markdown",
   "metadata": {},
   "source": [
    "## Derivatives of Non_Zero basis Functions"
   ]
  },
  {
   "cell_type": "code",
   "execution_count": 5,
   "metadata": {},
   "outputs": [],
   "source": [
    "# Derivatives are stored in ders[k][j]\n",
    "# ders[k][j] is the kth derivative of function N_(i-p+j,p)\n",
    "# If k>p the derivatives are zero.\n",
    "def DersBasisFuns(i,u,p,m,U):\n",
    "    #Inititation of dimentions for 2D matrices\n",
    "    ndu=np.zeros((p+1,p+1))\n",
    "    ders=np.zeros((p+1,p+1))\n",
    "    a=np.zeros((2,p+1))\n",
    "    left =np.zeros(p+2)\n",
    "    right =np.zeros(p+2)\n",
    "    \n",
    "    ndu[0][0]=1.0\n",
    "    for j in range(1,p+1):\n",
    "        left[j] = u - U[i+1-j]\n",
    "        right[j] = U[i+j] - u\n",
    "        saved=0.0\n",
    "        for r in range(j):\n",
    "            #Lower triangle\n",
    "            ndu[j][r] = right[r+1]+left[j-r]\n",
    "            temp=ndu[r][j-1]/ndu[j][r]\n",
    "            #Upper triangle\n",
    "            ndu[r][j] = saved+(right[r+1]*temp)\n",
    "            saved=left[j-r]*temp\n",
    "        ndu[j][j] = saved\n",
    "    for j in range (p+1): #Load the basis functions\n",
    "        ders[0][j]=ndu[j][p]\n",
    "    #This secion computes the derivatives\n",
    "    for r in range(p+1):\n",
    "        s1=0\n",
    "        s2=1 #Alternative rows in array a\n",
    "        a[0][0] = 1.0\n",
    "        #Loop to compute kth derivative\n",
    "        for k in range(1,m+1):\n",
    "            d=0.0\n",
    "            rk=r-k\n",
    "            pk=p-k\n",
    "            if(r>=k):\n",
    "                a[s2][0]=a[s1][0]/ndu[pk+1][rk]\n",
    "                d=a[s2][0]*ndu[rk][pk]\n",
    "            if(rk>=-1):\n",
    "                j1=1\n",
    "            else:\n",
    "                j1=-rk\n",
    "            if(r-1<=pk):\n",
    "                j2=k-1\n",
    "            else:\n",
    "                j2=p-r\n",
    "            for j in range (j1,j2+1):\n",
    "                a[s2][j] =(a[s1][j]-a[s1][j-1])/ndu[pk+1][rk+j]\n",
    "                d += (a[s2][j]*ndu[rk+j][pk])\n",
    "            if(r<=pk):\n",
    "                a[s2][k]=-a[s1][k-1]/ndu[pk+1][r]\n",
    "                d+=(a[s2][k]*ndu[r][pk])\n",
    "            ders[k][r]=d\n",
    "            #Switch rows\n",
    "            j=s1\n",
    "            s1=s2\n",
    "            s2=j\n",
    "            #Multiply through by the correct factors\n",
    "    r=p\n",
    "    for k in range(1,m+1):\n",
    "        for j in range(p+1):\n",
    "            ders[k][j] =ders[k][j]* r\n",
    "        r =r* (p-k)\n",
    "    return ders"
   ]
  },
  {
   "cell_type": "markdown",
   "metadata": {},
   "source": [
    "## Aders"
   ]
  },
  {
   "cell_type": "code",
   "execution_count": 6,
   "metadata": {},
   "outputs": [],
   "source": [
    "#An extra W is given as input to function for convinience which contain weights of corresponding control points\n",
    "def SurfaceDerivsAlgAuv(n,p,U,m,q,V,P,W,u,v,d):\n",
    "    #SKL=np.zeros((p+1,q+1,3))\n",
    "    SKL=np.zeros((20,20,3))\n",
    "    temp=np.zeros((q+1,3))\n",
    "    #print(SKL)\n",
    "    #print(temp[0])\n",
    "    #print(P[1][1])\n",
    "    du = min(d,p)\n",
    "    for k in range(p+1,d+1):\n",
    "        for l in range(d-k+1):\n",
    "            SKL[k][l]=0.0\n",
    "    dv = min(d,q)\n",
    "    for l in range(q+1,d+1):\n",
    "        for k in range(d-l+1):\n",
    "            SKL[k][l]=0.0 \n",
    "    uspan=FindSpan(n,p,u,U)\n",
    "    unders=DersBasisFuns(uspan,u,p,du,U)\n",
    "    vspan=FindSpan(m,q,v,V)\n",
    "    vnders=DersBasisFuns(vspan,v,q,dv,V)\n",
    "    for k in range(du+1):\n",
    "        for s in range(q+1):\n",
    "            temp[s] = 0.0\n",
    "            for r in range(p+1):\n",
    "                temp[s]=temp[s] + unders[k][r]*P[uspan-p+r][vspan-q+s]*W[uspan-p+r][vspan-q+s]\n",
    "            dd=min(d-k,dv)\n",
    "            for l in range(dd+1):\n",
    "                SKL[k][l] = 0.0\n",
    "                for s in range(q+1):\n",
    "                    SKL[k][l] = SKL[k][l] + vnders[l][s]*temp[s]\n",
    "    return SKL #Returning Aders here"
   ]
  },
  {
   "cell_type": "markdown",
   "metadata": {},
   "source": [
    "## wders"
   ]
  },
  {
   "cell_type": "code",
   "execution_count": 7,
   "metadata": {},
   "outputs": [],
   "source": [
    "def SurfaceDerivsAlgWuv(n,p,U,m,q,V,P,W,u,v,d):\n",
    "    #SKL=np.zeros((p+1,q+1,1)) #Have to cross check if this is right way of dimensioning SKL\n",
    "    SKL=np.zeros((20,20,1))\n",
    "    temp=np.zeros((q+1,1))    # Have to be because W is a scalar unlike P which is vector\n",
    "    #print(SKL)\n",
    "    #print(temp[0])\n",
    "    #print(P[1][1])\n",
    "    du = min(d,p)\n",
    "    for k in range(p+1,d+1):\n",
    "        for l in range(d-k+1):\n",
    "            SKL[k][l]=0.0\n",
    "    dv = min(d,q)\n",
    "    for l in range(q+1,d+1):\n",
    "        for k in range(d-l+1):\n",
    "            SKL[k][l]=0.0 \n",
    "    uspan=FindSpan(n,p,u,U)\n",
    "    #print('USPAN',uspan)\n",
    "    unders=DersBasisFuns(uspan,u,p,du,U)\n",
    "    vspan=FindSpan(m,q,v,V)\n",
    "    #print('VSPAN',vspan)\n",
    "    vnders=DersBasisFuns(vspan,v,q,dv,V)\n",
    "    for k in range(du+1):\n",
    "        for s in range(q+1):\n",
    "            temp[s] = 0.0\n",
    "            for r in range(p+1):\n",
    "                temp[s]=temp[s] + unders[k][r]*W[uspan-p+r][vspan-q+s]\n",
    "            dd=min(d-k,dv)\n",
    "            for l in range(dd+1):\n",
    "                SKL[k][l] = 0.0\n",
    "                for s in range(q+1):\n",
    "                    SKL[k][l] = SKL[k][l] + vnders[l][s]*temp[s]\n",
    "    return SKL #Returning wders here"
   ]
  },
  {
   "cell_type": "markdown",
   "metadata": {},
   "source": [
    "## Only derivatives of NURBS Functions"
   ]
  },
  {
   "cell_type": "code",
   "execution_count": 8,
   "metadata": {},
   "outputs": [],
   "source": [
    "def SurfaceDerivsAlgNURBS(n,p,U,m,q,V,P,W,u,v,d):\n",
    "    #SKL=np.zeros((p+1,q+1,1)) #Have to cross check if this is right way of dimensioning SKL\n",
    "    SKL=np.zeros((20,20,1))\n",
    "    temp=np.zeros((q+1,1))    # Have to be because W is a scalar unlike P which is vector\n",
    "    #print(SKL)\n",
    "    #print(temp[0])\n",
    "    #print(P[1][1])\n",
    "    du = min(d,p)\n",
    "    for k in range(p+1,d+1):\n",
    "        for l in range(d-k+1):\n",
    "            SKL[k][l]=0.0\n",
    "    dv = min(d,q)\n",
    "    for l in range(q+1,d+1):\n",
    "        for k in range(d-l+1):\n",
    "            SKL[k][l]=0.0 \n",
    "    uspan=FindSpan(n,p,u,U)\n",
    "    #print('USPAN',uspan)\n",
    "    unders=DersBasisFuns(uspan,u,p,du,U)\n",
    "    vspan=FindSpan(m,q,v,V)\n",
    "    #print('VSPAN',vspan)\n",
    "    vnders=DersBasisFuns(vspan,v,q,dv,V)\n",
    "    for k in range(du+1):\n",
    "        for s in range(q+1):\n",
    "            temp[s] = 0.0\n",
    "            for r in range(p+1):\n",
    "                temp[s]=temp[s] + unders[k][r]\n",
    "            dd=min(d-k,dv)\n",
    "            for l in range(dd+1):\n",
    "                SKL[k][l] = 0.0\n",
    "                for s in range(q+1):\n",
    "                    SKL[k][l] = SKL[k][l] + vnders[l][s]*temp[s]\n",
    "    return SKL #Returning wders with weights equal to 1 here"
   ]
  },
  {
   "cell_type": "markdown",
   "metadata": {},
   "source": [
    "## Function to extract derivatives of NURBS Surface"
   ]
  },
  {
   "cell_type": "code",
   "execution_count": 9,
   "metadata": {},
   "outputs": [],
   "source": [
    "#Functions gives SKL matrix which contain kth ans lth derivatives of the NURBS Surface function S(u,v)\n",
    "#For example 1st derivative of S(u,v) wrt to xi_para is stored in SKL[1][0]\n",
    "#Likewise 1st derivative of S(u,v) wrt to eta_para is stored in SKL[0][1]\n",
    "\n",
    "def RatSurfaceDerivs(Aders,wders,d):\n",
    "    #SKL=np.zeros((p+1,q+1,3))\n",
    "    SKL=np.zeros((20,20,3))\n",
    "    for k in range(d+1):\n",
    "        for l in range(d-k+1):\n",
    "            v=Aders[k][l]\n",
    "            for j in range(1,l+1):\n",
    "               # print('B',special.binom(l,j))\n",
    "                v=v-special.binom(l,j)*wders[0][j]*SKL[k][l-j]\n",
    "            for i in range(1,k+1):\n",
    "                v=v-special.binom(k,i)*wders[i][0]*SKL[k-i][l]\n",
    "                v2 = 0.0\n",
    "                for j in range(1,l+1):\n",
    "                    v2=v2+special.binom(l,j)*wders[i][j]*SKL[k-i][l-j]\n",
    "                v = v-special.binom(k,i)*v2\n",
    "            SKL[k][l] = v/wders[0][0]\n",
    "    return SKL"
   ]
  },
  {
   "cell_type": "markdown",
   "metadata": {},
   "source": [
    "## Higher (4th) Order  element p=3, q=3"
   ]
  },
  {
   "cell_type": "code",
   "execution_count": 10,
   "metadata": {},
   "outputs": [],
   "source": [
    "#----------Manually change below variables--------------#\n",
    "p=3\n",
    "q=3\n",
    "U=np.array([0., 0., 0., 0., 1., 2., 2., 2., 2.])\n",
    "V=np.array([0., 0., 0., 0., 1., 2., 2., 2., 2.])\n",
    "P_W=np.array([[[0,0,0,1],[0,0.25,0,1],[0,0.5,0,1],[0,0.75,0,1],[0,1,0,1]],\n",
    "              [[0.25,0,0,1],[0.25,0.25,0,1],[0.25,0.5,0,1],[0.25,0.75,0,1],[0.25,1,0,1]],\n",
    "              [[0.5,0,0,1],[0.5,0.25,0,1],[0.5,0.5,0,1],[0.5,0.75,0,1],[0.5,1,0,1]],\n",
    "              [[0.75,0,0,1],[0.75,0.25,0,1],[0.75,0.5,0,1],[0.75,0.75,0,1],[0.75,1,0,1]],\n",
    "              [[1.0,0,0,1],[1.0,0.25,0,1],[1.0,0.5,0,1],[1.0,0.75,0,1],[1.0,1,0,1]]])\n",
    "d=2\n",
    "ndof = 2\n",
    "#----------For Verification with 2nd order equations------------#\n",
    "# p=1\n",
    "# q=1\n",
    "# U = np.array([0., 0., 1.,1.]) \n",
    "# V = np.array([0., 0., 1.,1.]) \n",
    "# P_W=np.array([[[0,0,0,1],[0,1,0,1]],\n",
    "#            [[1,0,0,1],[1,1,0,1]]])\n",
    "# d=1\n",
    "# ndof = 2\n",
    "#---------------------------------------------------------------#\n",
    "\n",
    "\n",
    "\n",
    "#-----------GAUSS POINTS---------------#\n",
    "GPs_Ws = np.array([[-0.8611,-0.8611,0.1210],[-0.8611,-0.3399,0.2269],[-0.8611,0.3399,0.2269],[-0.8611,0.8611,0.1210],\n",
    "                   [-0.3399,-0.8611,0.2269],[-0.3399,-0.3399,0.4253],[-0.3399,0.3399,0.4253],[-0.3399,0.8611,0.2269],\n",
    "                   [0.3399,-0.8611,0.2269],[0.3399,-0.3399,0.4253],[0.3399,0.3399,0.4253],[0.3399,0.8611,0.2269],\n",
    "                   [0.8611,-0.8611,0.1210],[0.8611,-0.3399,0.2269],[0.8611,0.3399,0.2269],[0.8611,0.8611,0.1210]])\n",
    "#----------Need not alter below variables--------------#\n",
    "n=(np.size(U)-1)-p-1\n",
    "m=(np.size(V)-1)-q-1\n",
    "P=P_W[:,:,0:3]\n",
    "W=P_W[:,:,3]\n",
    "ncpxi=np.shape(P_W)[1]  #No.of control points xi direction\n",
    "ncpeta=np.shape(P_W)[1] #No.of control points eta direction\n",
    "nel=(ncpxi-p-1)*(ncpeta-q-1)\n",
    "ncp = ncpxi*ncpeta #Total number of control points\n",
    "necp = (p+2)*(q+2) #Total number of control points per element"
   ]
  },
  {
   "cell_type": "markdown",
   "metadata": {},
   "source": [
    "## Loop over gauss points"
   ]
  },
  {
   "cell_type": "code",
   "execution_count": 23,
   "metadata": {},
   "outputs": [
    {
     "name": "stdout",
     "output_type": "stream",
     "text": [
      "[[0. 0. 0. 0. 0. 0. 0. 0. 0. 0. 0. 0. 0. 0. 0. 0. 0. 0.]\n",
      " [0. 0. 0. 0. 0. 0. 0. 0. 0. 0. 0. 0. 0. 0. 0. 0. 0. 0.]\n",
      " [0. 0. 0. 0. 0. 0. 0. 0. 0. 0. 0. 0. 0. 0. 0. 0. 0. 0.]\n",
      " [0. 0. 0. 0. 0. 0. 0. 0. 0. 0. 0. 0. 0. 0. 0. 0. 0. 0.]\n",
      " [0. 0. 0. 0. 0. 0. 0. 0. 0. 0. 0. 0. 0. 0. 0. 0. 0. 0.]\n",
      " [0. 0. 0. 0. 0. 0. 0. 0. 0. 0. 0. 0. 0. 0. 0. 0. 0. 0.]\n",
      " [0. 0. 0. 0. 0. 0. 0. 0. 0. 0. 0. 0. 0. 0. 0. 0. 0. 0.]\n",
      " [0. 0. 0. 0. 0. 0. 0. 0. 0. 0. 0. 0. 0. 0. 0. 0. 0. 0.]\n",
      " [0. 0. 0. 0. 0. 0. 0. 0. 0. 0. 0. 0. 0. 0. 0. 0. 0. 0.]\n",
      " [0. 0. 0. 0. 0. 0. 0. 0. 0. 0. 0. 0. 0. 0. 0. 0. 0. 0.]\n",
      " [0. 0. 0. 0. 0. 0. 0. 0. 0. 0. 0. 0. 0. 0. 0. 0. 0. 0.]\n",
      " [0. 0. 0. 0. 0. 0. 0. 0. 0. 0. 0. 0. 0. 0. 0. 0. 0. 0.]\n",
      " [0. 0. 0. 0. 0. 0. 0. 0. 0. 0. 0. 0. 0. 0. 0. 0. 0. 0.]\n",
      " [0. 0. 0. 0. 0. 0. 0. 0. 0. 0. 0. 0. 0. 0. 0. 0. 0. 0.]\n",
      " [0. 0. 0. 0. 0. 0. 0. 0. 0. 0. 0. 0. 0. 0. 0. 0. 0. 0.]\n",
      " [0. 0. 0. 0. 0. 0. 0. 0. 0. 0. 0. 0. 0. 0. 0. 0. 0. 0.]\n",
      " [0. 0. 0. 0. 0. 0. 0. 0. 0. 0. 0. 0. 0. 0. 0. 0. 0. 0.]\n",
      " [0. 0. 0. 0. 0. 0. 0. 0. 0. 0. 0. 0. 0. 0. 0. 0. 0. 0.]]\n"
     ]
    },
    {
     "name": "stderr",
     "output_type": "stream",
     "text": [
      "D:\\Install_Path\\Jupyter\\Install\\lib\\site-packages\\ipykernel_launcher.py:20: RuntimeWarning: divide by zero encountered in double_scalars\n",
      "D:\\Install_Path\\Jupyter\\Install\\lib\\site-packages\\ipykernel_launcher.py:52: RuntimeWarning: divide by zero encountered in double_scalars\n",
      "D:\\Install_Path\\Jupyter\\Install\\lib\\site-packages\\ipykernel_launcher.py:38: RuntimeWarning: divide by zero encountered in double_scalars\n",
      "D:\\Install_Path\\Jupyter\\Install\\lib\\site-packages\\ipykernel_launcher.py:25: RuntimeWarning: invalid value encountered in multiply\n"
     ]
    },
    {
     "ename": "IndexError",
     "evalue": "index 2 is out of bounds for axis 0 with size 2",
     "output_type": "error",
     "traceback": [
      "\u001b[1;31m---------------------------------------------------------------------------\u001b[0m",
      "\u001b[1;31mIndexError\u001b[0m                                Traceback (most recent call last)",
      "\u001b[1;32m<ipython-input-23-d270927d34ef>\u001b[0m in \u001b[0;36m<module>\u001b[1;34m\u001b[0m\n\u001b[0;32m     20\u001b[0m         \u001b[0mJ2\u001b[0m \u001b[1;33m=\u001b[0m \u001b[0mdxi_dximas\u001b[0m\u001b[1;33m*\u001b[0m\u001b[0mdeta_detamas\u001b[0m\u001b[1;33m\u001b[0m\u001b[1;33m\u001b[0m\u001b[0m\n\u001b[0;32m     21\u001b[0m         \u001b[1;31m#--------Evaluation of NURBS basis functions derivatives---------#\u001b[0m\u001b[1;33m\u001b[0m\u001b[1;33m\u001b[0m\u001b[1;33m\u001b[0m\u001b[0m\n\u001b[1;32m---> 22\u001b[1;33m         \u001b[0mAders\u001b[0m \u001b[1;33m=\u001b[0m \u001b[0mSurfaceDerivsAlgAuv\u001b[0m\u001b[1;33m(\u001b[0m\u001b[0mn\u001b[0m\u001b[1;33m,\u001b[0m\u001b[0mp\u001b[0m\u001b[1;33m,\u001b[0m\u001b[0mU\u001b[0m\u001b[1;33m,\u001b[0m\u001b[0mm\u001b[0m\u001b[1;33m,\u001b[0m\u001b[0mq\u001b[0m\u001b[1;33m,\u001b[0m\u001b[0mV\u001b[0m\u001b[1;33m,\u001b[0m\u001b[0mP\u001b[0m\u001b[1;33m,\u001b[0m\u001b[0mW\u001b[0m\u001b[1;33m,\u001b[0m\u001b[0mxi\u001b[0m\u001b[1;33m,\u001b[0m\u001b[0meta\u001b[0m\u001b[1;33m,\u001b[0m\u001b[0md\u001b[0m\u001b[1;33m)\u001b[0m\u001b[1;33m\u001b[0m\u001b[1;33m\u001b[0m\u001b[0m\n\u001b[0m\u001b[0;32m     23\u001b[0m         \u001b[0mwders\u001b[0m \u001b[1;33m=\u001b[0m \u001b[0mSurfaceDerivsAlgWuv\u001b[0m\u001b[1;33m(\u001b[0m\u001b[0mn\u001b[0m\u001b[1;33m,\u001b[0m\u001b[0mp\u001b[0m\u001b[1;33m,\u001b[0m\u001b[0mU\u001b[0m\u001b[1;33m,\u001b[0m\u001b[0mm\u001b[0m\u001b[1;33m,\u001b[0m\u001b[0mq\u001b[0m\u001b[1;33m,\u001b[0m\u001b[0mV\u001b[0m\u001b[1;33m,\u001b[0m\u001b[0mP\u001b[0m\u001b[1;33m,\u001b[0m\u001b[0mW\u001b[0m\u001b[1;33m,\u001b[0m\u001b[0mxi\u001b[0m\u001b[1;33m,\u001b[0m\u001b[0meta\u001b[0m\u001b[1;33m,\u001b[0m\u001b[0md\u001b[0m\u001b[1;33m)\u001b[0m\u001b[1;33m\u001b[0m\u001b[1;33m\u001b[0m\u001b[0m\n\u001b[0;32m     24\u001b[0m         \u001b[0mdRx\u001b[0m \u001b[1;33m=\u001b[0m \u001b[0mRatSurfaceDerivs\u001b[0m\u001b[1;33m(\u001b[0m\u001b[0mAders\u001b[0m\u001b[1;33m,\u001b[0m\u001b[0mwders\u001b[0m\u001b[1;33m,\u001b[0m\u001b[0md\u001b[0m\u001b[1;33m)\u001b[0m\u001b[1;33m\u001b[0m\u001b[1;33m\u001b[0m\u001b[0m\n",
      "\u001b[1;32m<ipython-input-6-7ea2aa0d6901>\u001b[0m in \u001b[0;36mSurfaceDerivsAlgAuv\u001b[1;34m(n, p, U, m, q, V, P, W, u, v, d)\u001b[0m\n\u001b[0;32m     23\u001b[0m             \u001b[0mtemp\u001b[0m\u001b[1;33m[\u001b[0m\u001b[0ms\u001b[0m\u001b[1;33m]\u001b[0m \u001b[1;33m=\u001b[0m \u001b[1;36m0.0\u001b[0m\u001b[1;33m\u001b[0m\u001b[1;33m\u001b[0m\u001b[0m\n\u001b[0;32m     24\u001b[0m             \u001b[1;32mfor\u001b[0m \u001b[0mr\u001b[0m \u001b[1;32min\u001b[0m \u001b[0mrange\u001b[0m\u001b[1;33m(\u001b[0m\u001b[0mp\u001b[0m\u001b[1;33m+\u001b[0m\u001b[1;36m1\u001b[0m\u001b[1;33m)\u001b[0m\u001b[1;33m:\u001b[0m\u001b[1;33m\u001b[0m\u001b[1;33m\u001b[0m\u001b[0m\n\u001b[1;32m---> 25\u001b[1;33m                 \u001b[0mtemp\u001b[0m\u001b[1;33m[\u001b[0m\u001b[0ms\u001b[0m\u001b[1;33m]\u001b[0m\u001b[1;33m=\u001b[0m\u001b[0mtemp\u001b[0m\u001b[1;33m[\u001b[0m\u001b[0ms\u001b[0m\u001b[1;33m]\u001b[0m \u001b[1;33m+\u001b[0m \u001b[0munders\u001b[0m\u001b[1;33m[\u001b[0m\u001b[0mk\u001b[0m\u001b[1;33m]\u001b[0m\u001b[1;33m[\u001b[0m\u001b[0mr\u001b[0m\u001b[1;33m]\u001b[0m\u001b[1;33m*\u001b[0m\u001b[0mP\u001b[0m\u001b[1;33m[\u001b[0m\u001b[0muspan\u001b[0m\u001b[1;33m-\u001b[0m\u001b[0mp\u001b[0m\u001b[1;33m+\u001b[0m\u001b[0mr\u001b[0m\u001b[1;33m]\u001b[0m\u001b[1;33m[\u001b[0m\u001b[0mvspan\u001b[0m\u001b[1;33m-\u001b[0m\u001b[0mq\u001b[0m\u001b[1;33m+\u001b[0m\u001b[0ms\u001b[0m\u001b[1;33m]\u001b[0m\u001b[1;33m*\u001b[0m\u001b[0mW\u001b[0m\u001b[1;33m[\u001b[0m\u001b[0muspan\u001b[0m\u001b[1;33m-\u001b[0m\u001b[0mp\u001b[0m\u001b[1;33m+\u001b[0m\u001b[0mr\u001b[0m\u001b[1;33m]\u001b[0m\u001b[1;33m[\u001b[0m\u001b[0mvspan\u001b[0m\u001b[1;33m-\u001b[0m\u001b[0mq\u001b[0m\u001b[1;33m+\u001b[0m\u001b[0ms\u001b[0m\u001b[1;33m]\u001b[0m\u001b[1;33m\u001b[0m\u001b[1;33m\u001b[0m\u001b[0m\n\u001b[0m\u001b[0;32m     26\u001b[0m             \u001b[0mdd\u001b[0m\u001b[1;33m=\u001b[0m\u001b[0mmin\u001b[0m\u001b[1;33m(\u001b[0m\u001b[0md\u001b[0m\u001b[1;33m-\u001b[0m\u001b[0mk\u001b[0m\u001b[1;33m,\u001b[0m\u001b[0mdv\u001b[0m\u001b[1;33m)\u001b[0m\u001b[1;33m\u001b[0m\u001b[1;33m\u001b[0m\u001b[0m\n\u001b[0;32m     27\u001b[0m             \u001b[1;32mfor\u001b[0m \u001b[0ml\u001b[0m \u001b[1;32min\u001b[0m \u001b[0mrange\u001b[0m\u001b[1;33m(\u001b[0m\u001b[0mdd\u001b[0m\u001b[1;33m+\u001b[0m\u001b[1;36m1\u001b[0m\u001b[1;33m)\u001b[0m\u001b[1;33m:\u001b[0m\u001b[1;33m\u001b[0m\u001b[1;33m\u001b[0m\u001b[0m\n",
      "\u001b[1;31mIndexError\u001b[0m: index 2 is out of bounds for axis 0 with size 2"
     ]
    }
   ],
   "source": [
    "KG = np.zeros((ndof*ncp,ndof*ncp)) #Initiating Global K matrix\n",
    "RHSG = np.zeros((ndof*ncp,1)) # Initiating Global RHS matrix\n",
    "for i in range(nel):\n",
    "    Ke=np.zeros((ndof*necp,ndof*necp))\n",
    "    B=np.zeros((3,ndof*necp)) #Dimentions depends on type of application\n",
    "    elU = np.array([0,2]) #Manually defined have to generate using connectivity functions\n",
    "    elV = np.array([0,2]) #Manually defined have to generate using connectivity functions\n",
    "    \n",
    "    #-------------------GAUSS LOOP-------------------#\n",
    "    for j in range(np.shape(GPs_Ws)[0]):\n",
    "    #for j in range(2):\n",
    "        gp = GPs_Ws[j,0:2]\n",
    "        wg = GPs_Ws[j,2]\n",
    "        ximas = gp[0]\n",
    "        etamas = gp[1]\n",
    "        xi = 0.5*((elU[1]-elU[0])*ximas + (elU[1]+elU[0]))     #Paramteric co-ordinates\n",
    "        eta = 0.5*((elV[1]-elV[0])*etamas + (elV[1]+elV[0]))\n",
    "        dxi_dximas = 0.5*(elU[1]-elU[0])\n",
    "        deta_detamas = 0.5*(elV[1]-elV[0]) \n",
    "        J2 = dxi_dximas*deta_detamas\n",
    "        #--------Evaluation of NURBS basis functions derivatives---------#\n",
    "        Aders = SurfaceDerivsAlgAuv(n,p,U,m,q,V,P,W,xi,eta,d)\n",
    "        wders = SurfaceDerivsAlgWuv(n,p,U,m,q,V,P,W,xi,eta,d)\n",
    "        dRx = RatSurfaceDerivs(Aders,wders,d)\n",
    "        dRx_dxi  =  dRx[1][0][0]\n",
    "        dRx_deta =  dRx[0][1][0]\n",
    "        dRy_dxi  =  dRx[1][0][1]\n",
    "        dRy_deta =  dRx[0][1][1]\n",
    "        J1 = np.array([[dRx_dxi,dRx_deta],\n",
    "                  [dRy_dxi,dRy_deta]])\n",
    "        #print('J1 Matrix : ',J1)\n",
    "        J1det = (dRx_dxi*dRy_deta)-(dRx_deta*dRy_dxi)\n",
    "        #print('Determinat of J1 : ',J1det)\n",
    "        J1inv = np.linalg.inv(J1)\n",
    "        #print('J1inv : ',J1inv)\n",
    "        #---------------NURBS Basis Functions Derivatives wrt x and y-------------#\n",
    "        uspan = FindSpan(n,p,xi,U)\n",
    "        vspan = FindSpan(m,q,eta,V)\n",
    "        # Indices of non vanishing basis functions\n",
    "        NVu = np.arange(uspan-p,uspan+1,1) #Thoroughly checked. Can crosscheck again\n",
    "        NVv = np.arange(vspan-p,vspan+1,1)\n",
    "        Den = SurfaceDerivsAlgWuv(n,p,U,m,q,V,P,W,xi,eta,d)\n",
    "        Denom = Den[0][0]\n",
    "        Denom_du = Den[1][0]\n",
    "        Denom_dv = Den[0][1]\n",
    "        dR_du = np.zeros((ncpxi,ncpxi))\n",
    "        dR_dv = np.zeros((ncpxi,ncpxi))\n",
    "        #---------------Loop over Non vanishing NURBS Basis Functions-------------#\n",
    "        #***************Forgot to multiply with control points weights*************# Have to do it\n",
    "        for ii, ii_value in enumerate(NVu):\n",
    "            for jj, jj_value in enumerate(NVv):\n",
    "                BFu = BasisFuns(uspan,xi,p,U)\n",
    "                BFv = BasisFuns(vspan,eta,q,V)\n",
    "                Num = BFu[ii]*BFv[jj]\n",
    "                DBFu = DersBasisFuns(uspan,xi,p,d,U)\n",
    "                DBFv = DersBasisFuns(vspan,eta,q,d,V)\n",
    "                Num_du = DBFu[1][ii]*BFv[jj]\n",
    "                Num_dv = BFu[ii]*DBFv[1][jj]\n",
    "                dR_du[ii_value][jj_value] = Num_du/Denom - Denom_du*Num/(Denom*Denom)\n",
    "                dR_dv[ii_value][jj_value] = Num_dv/Denom - Denom_dv*Num/(Denom*Denom)\n",
    "        #---------Flatten (Convert 2D to 1D array) DervsNURBS Function------------#\n",
    "        #dR_du(0,0)....dR_du(0,1),dR_du(1,0),.....dR_du(1,4).....dR_du(4,0),..........dR_du(4,4)\n",
    "        fdR_du = dR_du.flatten()\n",
    "        fdR_dv = dR_dv.flatten()\n",
    "        #-------------------------B Matrix --------------------------#\n",
    "        for i2 in range(necp):\n",
    "            j1= 2*i\n",
    "            j2= 2*i+1\n",
    "            B[0,j1] = fdR_du[i2]\n",
    "            B[1,j2] = fdR_dv[i2]\n",
    "            B[2,j1] = fdR_dv[i2]\n",
    "            B[2,j2] = fdR_du[i2]\n",
    "        #------------------------- C Matrix--------------------------#\n",
    "        C=np.array([[139000,74280,0],[74280,115400,0],[0,0,115400]])\n",
    "        #-------------------------Local Stiffness matrix Ke-------------------#\n",
    "        CB=np.matmul(C,B)\n",
    "        BCB = np.matmul(np.transpose(B),CB)\n",
    "        Ke = Ke + BCB*J1det*J2*wg\n",
    "        print(Ke)\n",
    "        \n",
    "        "
   ]
  },
  {
   "cell_type": "code",
   "execution_count": 12,
   "metadata": {},
   "outputs": [
    {
     "name": "stdout",
     "output_type": "stream",
     "text": [
      "[0.   0.   0.   1.   0.   0.25 0.   1.   0.   0.5  0.   1.   0.   0.75\n",
      " 0.   1.   0.   1.   0.   1.   0.25 0.   0.   1.   0.25 0.25 0.   1.\n",
      " 0.25 0.5  0.   1.   0.25 0.75 0.   1.   0.25 1.   0.   1.   0.5  0.\n",
      " 0.   1.   0.5  0.25 0.   1.   0.5  0.5  0.   1.   0.5  0.75 0.   1.\n",
      " 0.5  1.   0.   1.   0.75 0.   0.   1.   0.75 0.25 0.   1.   0.75 0.5\n",
      " 0.   1.   0.75 0.75 0.   1.   0.75 1.   0.   1.   1.   0.   0.   1.\n",
      " 1.   0.25 0.   1.   1.   0.5  0.   1.   1.   0.75 0.   1.   1.   1.\n",
      " 0.   1.  ]\n"
     ]
    }
   ],
   "source": [
    "x=np.array([[1,2,3],[4,5,6],[7,8,9]])\n",
    "P_W=np.array([[[0,0,0,1],[0,0.25,0,1],[0,0.5,0,1],[0,0.75,0,1],[0,1,0,1]],\n",
    "              [[0.25,0,0,1],[0.25,0.25,0,1],[0.25,0.5,0,1],[0.25,0.75,0,1],[0.25,1,0,1]],\n",
    "              [[0.5,0,0,1],[0.5,0.25,0,1],[0.5,0.5,0,1],[0.5,0.75,0,1],[0.5,1,0,1]],\n",
    "              [[0.75,0,0,1],[0.75,0.25,0,1],[0.75,0.5,0,1],[0.75,0.75,0,1],[0.75,1,0,1]],\n",
    "              [[1.0,0,0,1],[1.0,0.25,0,1],[1.0,0.5,0,1],[1.0,0.75,0,1],[1.0,1,0,1]]])\n",
    "y=P_W.flatten()\n",
    "print(y)"
   ]
  },
  {
   "cell_type": "code",
   "execution_count": 13,
   "metadata": {},
   "outputs": [
    {
     "name": "stdout",
     "output_type": "stream",
     "text": [
      "0\n",
      "1\n",
      "2\n",
      "3\n",
      "4\n",
      "5\n",
      "6\n",
      "7\n",
      "8\n",
      "9\n",
      "10\n",
      "11\n",
      "12\n",
      "13\n",
      "14\n",
      "15\n",
      "16\n",
      "17\n",
      "18\n",
      "19\n",
      "20\n",
      "21\n",
      "22\n",
      "23\n",
      "24\n"
     ]
    }
   ],
   "source": [
    "for i in range(25):\n",
    "    j1= 2*i\n",
    "    j2= 2*i+1\n",
    "    j3=i\n",
    "    print(j3)"
   ]
  },
  {
   "cell_type": "code",
   "execution_count": 14,
   "metadata": {},
   "outputs": [
    {
     "name": "stdout",
     "output_type": "stream",
     "text": [
      "[[139000  74280      0]\n",
      " [ 74280 115400      0]\n",
      " [     0      0 115400]]\n"
     ]
    }
   ],
   "source": [
    "C=np.array([[139000,74280,0],[74280,115400,0],[0,0,115400]])\n",
    "print(C)"
   ]
  },
  {
   "cell_type": "code",
   "execution_count": null,
   "metadata": {},
   "outputs": [],
   "source": []
  },
  {
   "cell_type": "code",
   "execution_count": null,
   "metadata": {},
   "outputs": [],
   "source": []
  },
  {
   "cell_type": "code",
   "execution_count": null,
   "metadata": {},
   "outputs": [],
   "source": []
  },
  {
   "cell_type": "code",
   "execution_count": null,
   "metadata": {},
   "outputs": [],
   "source": []
  },
  {
   "cell_type": "code",
   "execution_count": null,
   "metadata": {},
   "outputs": [],
   "source": []
  },
  {
   "cell_type": "code",
   "execution_count": null,
   "metadata": {},
   "outputs": [],
   "source": []
  },
  {
   "cell_type": "code",
   "execution_count": null,
   "metadata": {},
   "outputs": [],
   "source": []
  },
  {
   "cell_type": "code",
   "execution_count": null,
   "metadata": {},
   "outputs": [],
   "source": []
  },
  {
   "cell_type": "code",
   "execution_count": null,
   "metadata": {},
   "outputs": [],
   "source": []
  },
  {
   "cell_type": "code",
   "execution_count": null,
   "metadata": {},
   "outputs": [],
   "source": []
  },
  {
   "cell_type": "markdown",
   "metadata": {},
   "source": [
    "## Rough implementation of Stiffness Matrix generation"
   ]
  },
  {
   "cell_type": "markdown",
   "metadata": {},
   "source": [
    "### Parameters"
   ]
  },
  {
   "cell_type": "code",
   "execution_count": 15,
   "metadata": {},
   "outputs": [
    {
     "name": "stdout",
     "output_type": "stream",
     "text": [
      "[0.   0.25 0.  ]\n"
     ]
    }
   ],
   "source": [
    "##*****Knot vectors must be integers****## cannot be 0.5   etc........\n",
    "##*******RESTRICTION***************##\n",
    "# U = np.array([0., 0., 0., 0.,0.5, 1., 1., 1., 1.])\n",
    "# V = np.array([0., 0., 0., 0.,0.5, 1., 1., 1., 1.])\n",
    "U = np.array([0., 0., 0., 0.,1., 2., 2., 2., 2.]) \n",
    "V = np.array([0., 0., 0., 0.,1., 2., 2., 2., 2.]) \n",
    "p=3\n",
    "q=3\n",
    "n=(np.size(U)-1)-p-1\n",
    "m=(np.size(V)-1)-q-1\n",
    "P_W_T=np.array([[[0,0,0,1],[0.25,0,0,1],[0.5,0,0,1],[0.75,0,0,1],[1,0,0,1]],\n",
    "             [[0,0.25,0,1],[0.25,0.25,0,1],[0.5,0.25,0,1],[0.75,0.25,0,1],[1,0.25,0,1]],\n",
    "             [[0,0.5,0,1],[0.25,0.5,0,1],[0.5,0.5,0,1],[0.75,0.5,0,1],[1,0.5,0,1]],\n",
    "             [[0,0.75,0,1],[0.25,0.75,0,1],[0.5,0.75,0,1],[0.75,0.75,0,1],[1,0.75,0,1]],\n",
    "             [[0,1,0,1],[0.25,1,0,1],[0.5,1,0,1],[0.75,1,0,1],[1,1,0,1]]])\n",
    "P_W=np.array([[[0,0,0,1],[0,0.25,0,1],[0,0.5,0,1],[0,0.75,0,1],[0,1,0,1]],\n",
    "              [[0.25,0,0,1],[0.25,0.25,0,1],[0.25,0.5,0,1],[0.25,0.75,0,1],[0.25,1,0,1]],\n",
    "              [[0.5,0.,0,1],[0.5,0.25,0,1],[0.5,0.5,0,1],[0.5,0.75,0,1],[0.5,1,0,1]],\n",
    "              [[0.75,0,0,1],[0.75,0.25,0,1],[0.75,0.5,0,1],[0.75,0.75,0,1],[0.75,1,0,1]],\n",
    "              [[1.0,0,0,1],[1.0,0.25,0,1],[1.0,0.5,0,1],[1.0,0.75,0,1],[1.0,1,0,1]]])\n",
    "P=P_W[:,:,0:3]\n",
    "W=P_W[:,:,3]\n",
    "d=3\n",
    "print(P[0][1]*W[0][0])"
   ]
  },
  {
   "cell_type": "markdown",
   "metadata": {},
   "source": [
    "### Stiffness matrix for 2D case with u1 and u2 dof"
   ]
  },
  {
   "cell_type": "code",
   "execution_count": 16,
   "metadata": {},
   "outputs": [],
   "source": [
    "ncpx =5 # No.control points in x direction\n",
    "ncpy =5 # No.control points in y direction\n",
    "ncp = ncpx*ncpy\n",
    "ndof = 2\n",
    "# Gauss points and corresponding weights in a single matrix\n",
    "# This matrix will depend on the type of problem. So have to change in parameters. \n",
    "# Or alternatively create a function\n",
    "GPs_Ws = np.array([[-0.5774,-0.5774,1],[0.5774,-0.5774,1],[0.5774,0.5774,1],[-0.5774,0.5774,1]])\n",
    "#GPs_Ws[:,2] gauss weights\n",
    "#GPs_Ws[:,0:2] gauss points\n",
    "\n",
    "#Have to see how to make it work for multiple elements\n",
    "nel = (ncpx-p-1)*(ncpy-q-1) #Total number of elements\n",
    "necp =(p+2)*(q+2) #Total number of control points in an element \n",
    "#Caution have to check on what it depends\n",
    "gp=GPs_Ws[0,0:2]"
   ]
  },
  {
   "cell_type": "code",
   "execution_count": 17,
   "metadata": {},
   "outputs": [
    {
     "name": "stdout",
     "output_type": "stream",
     "text": [
      "7.461393830399117e-18\n",
      "-6.991143896556418e-17\n",
      "0.0\n",
      "0.0\n"
     ]
    }
   ],
   "source": [
    "KG = np.zeros((ndof*ncp,ndof*ncp)) #Initiating Global K matrix\n",
    "RHSG = np.zeros((ndof*ncp,1)) # Initiating Global RHS matrix\n",
    "for i in range(nel):\n",
    "    Ke=np.zeros((ndof*necp,ndof*necp))\n",
    "    B=np.zeros((3,ndof*necp)) #Dimentions depends on type of application\n",
    "    elU = np.array([0,2]) #Manually defined have to generate using connectivity functions\n",
    "    elV = np.array([0,2]) #Manually defined have to generate using connectivity functions\n",
    "    \n",
    "    for j in range(np.shape(GPs_Ws)[0]): #Computes number of gauss points from GP matrix provided\n",
    "        gp = GPs_Ws[j,0:2]\n",
    "        wg = GPs_Ws[j,2]\n",
    "        xi_para = gp[0]\n",
    "        eta_para = gp[1]\n",
    "        xi = 0.5*((elU[1]-elU[0])*xi_para + (elU[1]+elU[0]))\n",
    "        eta = 0.5*((elV[1]-elV[0])*eta_para + (elV[1]+elV[0]))\n",
    "        dxi_dxi_para = 0.5*(elU[1]-elU[0])\n",
    "        deta_deta_para = 0.5*(elV[1]-elV[0]) \n",
    "        J2 = dxi_dxi_para*deta_deta_para\n",
    "        \n",
    "        #--------Evaluation of NURBS basis functions derivatives---------#\n",
    "        # We are finding the derivative at gauss points\n",
    "        u=xi \n",
    "        #************What is point in sending xi and eta values what does that mena here????************#\n",
    "        v=eta\n",
    "        Aders = SurfaceDerivsAlgAuv(n,p,U,m,q,V,P,W,u,v,d)\n",
    "        wders = SurfaceDerivsAlgWuv(n,p,U,m,q,V,P,W,u,v,d)\n",
    "        R = RatSurfaceDerivs(Aders,wders,d)\n",
    "        print(R[0][1][0])\n",
    "        jacob = np.array([[R[1][0][0],R[0][1][0]],\n",
    "                          [R[1][0][1],R[0][1][1]]])\n",
    "        J1=np.linalg.det(jacob)"
   ]
  },
  {
   "cell_type": "markdown",
   "metadata": {},
   "source": [
    "## 2nd Order Element"
   ]
  },
  {
   "cell_type": "code",
   "execution_count": 18,
   "metadata": {},
   "outputs": [
    {
     "name": "stdout",
     "output_type": "stream",
     "text": [
      "Number of elements are: 1\n"
     ]
    }
   ],
   "source": [
    "##*****Knot vectors must be integers****## cannot be 0.5   etc........\n",
    "##*******RESTRICTION***************##\n",
    "U = np.array([0., 0., 1.,1.]) \n",
    "V = np.array([0., 0., 1.,1.]) \n",
    "p=1\n",
    "q=1\n",
    "n=(np.size(U)-1)-p-1\n",
    "m=(np.size(V)-1)-q-1\n",
    "#***********Page 116 for control points array definition ************#\n",
    "P_W=np.array([[[0,0,0,1],[0,1,0,1]],\n",
    "           [[1,0,0,1],[1,1,0,1]]])\n",
    "P=P_W[:,:,0:3]\n",
    "W=P_W[:,:,3]\n",
    "d=1\n",
    "ncpx =2 # No.control points in x direction\n",
    "ncpy =2 # No.control points in y direction\n",
    "ncp = ncpx*ncpy\n",
    "ndof = 2\n",
    "# Gauss points and corresponding weights in a single matrix\n",
    "# This matrix will depend on the type of problem. So have to change in parameters. \n",
    "# Or alternatively create a function\n",
    "GPs_Ws = np.array([[-0.5774,-0.5774,1],[0.5774,-0.5774,1],[0.5774,0.5774,1],[-0.5774,0.5774,1]])\n",
    "#GPs_Ws[:,2] gauss weights\n",
    "#GPs_Ws[:,0:2] gauss points\n",
    "\n",
    "#Have to see how to make it work for multiple elements\n",
    "nel = (ncpx-p-1)*(ncpy-q-1)+1 #Total number of elements\n",
    "print('Number of elements are:', nel)\n",
    "necp =(p+2)*(q+2) #Total number of control points in an element \n",
    "#Caution have to check on what it depends\n",
    "gp=GPs_Ws[0,0:2]"
   ]
  },
  {
   "cell_type": "code",
   "execution_count": 19,
   "metadata": {
    "scrolled": false
   },
   "outputs": [
    {
     "name": "stdout",
     "output_type": "stream",
     "text": [
      "[0. 1. 0.]\n",
      "[0. 1. 0.]\n",
      "[0. 1. 0.]\n",
      "[0. 1. 0.]\n"
     ]
    }
   ],
   "source": [
    "KG = np.zeros((ndof*ncp,ndof*ncp)) #Initiating Global K matrix\n",
    "RHSG = np.zeros((ndof*ncp,1)) # Initiating Global RHS matrix\n",
    "for i in range(nel):\n",
    "    Ke=np.zeros((ndof*necp,ndof*necp))\n",
    "    B=np.zeros((3,ndof*necp)) #Dimentions depends on type of application\n",
    "    elU = np.array([0,1]) #Manually defined have to generate using connectivity functions\n",
    "    elV = np.array([0,1]) #Manually defined have to generate using connectivity functions\n",
    "    \n",
    "    for j in range(np.shape(GPs_Ws)[0]): #Computes number of gauss points from GP matrix provided\n",
    "        gp = GPs_Ws[j,0:2]\n",
    "        wg = GPs_Ws[j,2]\n",
    "        xi_para = gp[0]\n",
    "        eta_para = gp[1]\n",
    "        xi = 0.5*((elU[1]-elU[0])*xi_para + (elU[1]+elU[0]))\n",
    "        eta = 0.5*((elV[1]-elV[0])*eta_para + (elV[1]+elV[0]))\n",
    "        dxi_dxi_para = 0.5*(elU[1]-elU[0])\n",
    "        deta_deta_para = 0.5*(elV[1]-elV[0]) \n",
    "        J2 = dxi_dxi_para*deta_deta_para\n",
    "        \n",
    "        #--------Evaluation of NURBS basis functions derivatives---------#\n",
    "        # We are finding the derivative at gauss points\n",
    "        u=xi \n",
    "        #************What is point in sending xi and eta values what does that mena here????************#\n",
    "        v=eta\n",
    "        Aders = SurfaceDerivsAlgAuv(n,p,U,m,q,V,P,W,xi,eta,d)\n",
    "        wders = SurfaceDerivsAlgWuv(n,p,U,m,q,V,P,W,xi,eta,d)\n",
    "        R = RatSurfaceDerivs(Aders,wders,d)\n",
    "        R_NURBS = SurfaceDerivsAlgNURBS(n,p,U,m,q,V,P,W,xi,eta,d)\n",
    "        print(R[0][1])\n",
    "        J1 = np.array([[R[1][0][0],R[0][1][0]],\n",
    "                          [R[1][0][1],R[0][1][1]]])\n",
    "        J1inv=np.linalg.inv(jacob)\n",
    "        J1det=np.linalg.det(jacob)\n",
    "        R_dxideta = np.array([R_NURBS[1][0],R_NURBS[0][1]])\n",
    "        R_dxdy = np.matmul(J1inv,R_dxideta)\n",
    "        \n",
    "        "
   ]
  }
 ],
 "metadata": {
  "kernelspec": {
   "display_name": "Python 3",
   "language": "python",
   "name": "python3"
  },
  "language_info": {
   "codemirror_mode": {
    "name": "ipython",
    "version": 3
   },
   "file_extension": ".py",
   "mimetype": "text/x-python",
   "name": "python",
   "nbconvert_exporter": "python",
   "pygments_lexer": "ipython3",
   "version": "3.7.4"
  }
 },
 "nbformat": 4,
 "nbformat_minor": 2
}
