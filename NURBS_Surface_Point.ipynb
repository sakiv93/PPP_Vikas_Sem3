{
 "cells": [
  {
   "cell_type": "code",
   "execution_count": 1,
   "metadata": {},
   "outputs": [],
   "source": [
    "#Adapted from Algorithm A3.5 from 'The NURBS BOOK' pg103.\n",
    "import numpy as np\n",
    "import matplotlib.pyplot as plt\n",
    "import math"
   ]
  },
  {
   "cell_type": "markdown",
   "metadata": {},
   "source": [
    "## Function to find Non-Zero basis Functions"
   ]
  },
  {
   "cell_type": "code",
   "execution_count": 2,
   "metadata": {},
   "outputs": [],
   "source": [
    "def BasisFuns(knot_position_inp,u_inp,degree_inp,knot_vector_inp):\n",
    "    N =np.zeros(degree_inp+1)\n",
    "    N[0] = 1.0\n",
    "    left =np.zeros(degree_inp+2)\n",
    "    right =np.zeros(degree_inp+2)\n",
    "    for j in range(1,degree_inp+1):\n",
    "        left[j] = u_inp - knot_vector_inp[knot_position_inp+1-j]\n",
    "        right[j] = knot_vector_inp[knot_position_inp+j] - u_inp\n",
    "        saved= 0.0\n",
    "        for r in range(0,j):\n",
    "            temp = N[r]/(right[r+1]+left[j-r])\n",
    "            N[r] = saved + right[r+1]*temp\n",
    "            saved = left[j-r]*temp\n",
    "        N[j] = saved\n",
    "    return N"
   ]
  },
  {
   "cell_type": "markdown",
   "metadata": {},
   "source": [
    "## Function to find span of the knot in knot vector"
   ]
  },
  {
   "cell_type": "code",
   "execution_count": 3,
   "metadata": {},
   "outputs": [],
   "source": [
    "def FindSpan(n_inp,degree_inp,u_inp,knot_vector_inp):\n",
    "    if (u_inp < knot_vector_inp[degree_inp+1]):\n",
    "        return degree_inp\n",
    "    else:\n",
    "        for i,pos in enumerate(knot_vector_inp):\n",
    "            if math.floor(u_inp) == pos:\n",
    "                return (i)"
   ]
  },
  {
   "cell_type": "markdown",
   "metadata": {},
   "source": [
    "## Function to find point on a Bspline_Surface"
   ]
  },
  {
   "cell_type": "code",
   "execution_count": 4,
   "metadata": {},
   "outputs": [],
   "source": [
    "def Bspline_Surface_Point(n,p,U,m,q,V,P,u,v):\n",
    "    uspan = FindSpan(n,p,u,U)\n",
    "    Nu=BasisFuns(uspan,u,p,U)\n",
    "    vspan = FindSpan(m,q,v,V)\n",
    "    Nv=BasisFuns(vspan,v,q,V)\n",
    "    uind=uspan-p\n",
    "    S=0.0\n",
    "    for l in range(q+1):\n",
    "        temp=0.0\n",
    "        vind=vspan-q+1\n",
    "        for k in range(p+1):\n",
    "            temp=temp+Nu[k]*P[uind+k][vind]\n",
    "        S=S+Nv[l]*temp\n",
    "    return S\n",
    "    "
   ]
  },
  {
   "cell_type": "markdown",
   "metadata": {},
   "source": [
    "## Function to find point on a NURBS_Surface"
   ]
  },
  {
   "cell_type": "code",
   "execution_count": 5,
   "metadata": {},
   "outputs": [],
   "source": [
    "def Bspline_Surface_Point(n,p,U,m,q,V,Pw,u,v):\n",
    "    temp=np.zeros(q+1)\n",
    "    uspan = FindSpan(n,p,u,U)\n",
    "    Nu=BasisFuns(uspan,u,p,U)\n",
    "    vspan = FindSpan(m,q,v,V)\n",
    "    Nv=BasisFuns(vspan,v,q,V)\n",
    "    for l in range(q+1):\n",
    "        temp[l]=0.0\n",
    "        for k in range(p+1):\n",
    "            temp[l]=temp[l]+Nu[k]*np.array(Pw[uspan-p+k][vspan-q+l][0])\n",
    "    Sw=0.0\n",
    "    for l in range(q+1):\n",
    "        Sw=Sw+Nv[l]*temp[l]\n",
    "    #S = Sw/w\n",
    "    S = Sw\n",
    "    return S\n",
    "    "
   ]
  },
  {
   "cell_type": "code",
   "execution_count": 6,
   "metadata": {},
   "outputs": [
    {
     "ename": "NameError",
     "evalue": "name 'Pw' is not defined",
     "output_type": "error",
     "traceback": [
      "\u001b[1;31m---------------------------------------------------------------------------\u001b[0m",
      "\u001b[1;31mNameError\u001b[0m                                 Traceback (most recent call last)",
      "\u001b[1;32m<ipython-input-6-55a5c091e435>\u001b[0m in \u001b[0;36m<module>\u001b[1;34m\u001b[0m\n\u001b[0;32m     32\u001b[0m \u001b[1;31m#print(2*np.array(Pw[4][2][0]))\u001b[0m\u001b[1;33m\u001b[0m\u001b[1;33m\u001b[0m\u001b[1;33m\u001b[0m\u001b[0m\n\u001b[0;32m     33\u001b[0m \u001b[1;33m\u001b[0m\u001b[0m\n\u001b[1;32m---> 34\u001b[1;33m \u001b[0mS_r\u001b[0m \u001b[1;33m=\u001b[0m \u001b[0mBspline_Surface_Point\u001b[0m\u001b[1;33m(\u001b[0m\u001b[0mn\u001b[0m\u001b[1;33m,\u001b[0m\u001b[0mp\u001b[0m\u001b[1;33m,\u001b[0m\u001b[0mU\u001b[0m\u001b[1;33m,\u001b[0m\u001b[0mm\u001b[0m\u001b[1;33m,\u001b[0m\u001b[0mq\u001b[0m\u001b[1;33m,\u001b[0m\u001b[0mV\u001b[0m\u001b[1;33m,\u001b[0m\u001b[0mPw\u001b[0m\u001b[1;33m,\u001b[0m\u001b[0mu\u001b[0m\u001b[1;33m,\u001b[0m\u001b[0mv\u001b[0m\u001b[1;33m)\u001b[0m\u001b[1;33m\u001b[0m\u001b[1;33m\u001b[0m\u001b[0m\n\u001b[0m\u001b[0;32m     35\u001b[0m \u001b[0mprint\u001b[0m\u001b[1;33m(\u001b[0m\u001b[0mS_r\u001b[0m\u001b[1;33m)\u001b[0m\u001b[1;33m\u001b[0m\u001b[1;33m\u001b[0m\u001b[0m\n",
      "\u001b[1;31mNameError\u001b[0m: name 'Pw' is not defined"
     ]
    }
   ],
   "source": [
    "#Can take input from knot vector function\n",
    "#Defining input parameters to funtion, here manually\n",
    "U = np.array([0., 0., 0., 1., 2., 3., 4., 4., 5., 5., 5.])\n",
    "V = np.array([0., 0., 0., 1., 2., 3., 3., 3.])\n",
    "u=2.5\n",
    "v=1\n",
    "p=2\n",
    "q=2\n",
    "n=(np.size(U)-1)-p-1\n",
    "m=(np.size(V)-1)-q-1\n",
    "#P=np.array([[[],[],[],[],[],[],[],[]],\n",
    "#           [[],[],[],[0,2,4,1],[0,6,4,2],[0,2,0,1],[],[]],\n",
    "#            [[],[],[],[4,6,8,2],[12,24,12,6],[4,6,0,2],[],[]],\n",
    "#            [[],[],[],[4,2,4,1],[8,6,4,2],[4,2,0,1],[],[]],\n",
    "#            [[],[],[],[],[],[],[],[]]])\n",
    "#Pw=np.array([[[],[],[],[],[]],\n",
    "#            [[],[],[],[],[]],\n",
    "#            [[],[0.,2.,4.,1.],[0.,6.,4.,2.],[0.,2.,0.,1.],[]],\n",
    "#            [[],[4.,6.,8.,2.],[12.,24.,12.,6.],[4.,6.,0.,2.],[]],\n",
    "#            [[],[4.,2.,4.,1.],[8.,6.,4.,2.],[4.,2.,0.,1.],[]],\n",
    "#            [[],[],[],[],[]],\n",
    "#            [[],[],[],[],[]],\n",
    "#            [[],[],[],[],[]]])\n",
    "#Pw=np.array([[[0.,2.,4.,1.],[0.,2.,4.,1.],[0.,2.,4.,1.],[0.,2.,4.,1.],[0.,2.,4.,1.]],\n",
    "#             [[0.,2.,4.,1.],[0.,2.,4.,1.],[0.,2.,4.,1.],[0.,2.,4.,1.],[0.,2.,4.,1.]],\n",
    "#             [[0.,2.,4.,1.],[0.,2.,4.,1.],[0.,6.,4.,2.],[0.,2.,0.,1.],[0.,2.,4.,1.]],\n",
    "#             [[0.,2.,4.,1.],[4.,6.,8.,2.],[12.,24.,12.,6.],[4.,6.,0.,2.],[0.,2.,4.,1.]],\n",
    "#             [[0.,2.,4.,1.],[4.,2.,4.,1.],[8.,6.,4.,2.],[4.,2.,0.,1.],[0.,2.,4.,1.]],\n",
    "#             [[0.,2.,4.,1.],[0.,2.,4.,1.],[0.,2.,4.,1.],[0.,2.,4.,1.],[0.,2.,4.,1.]],\n",
    "#             [[0.,2.,4.,1.],[0.,2.,4.,1.],[0.,2.,4.,1.],[0.,2.,4.,1.],[0.,2.,4.,1.]],\n",
    "#             [[0.,2.,4.,1.],[0.,2.,4.,1.],[0.,2.,4.,1.],[0.,2.,4.,1.],[0.,2.,4.,1.]]])\n",
    "#print(2*np.array(Pw[4][2][0]))\n",
    "\n",
    "S_r = Bspline_Surface_Point(n,p,U,m,q,V,Pw,u,v)\n",
    "print(S_r)\n"
   ]
  },
  {
   "cell_type": "code",
   "execution_count": 7,
   "metadata": {},
   "outputs": [
    {
     "name": "stdout",
     "output_type": "stream",
     "text": [
      "0.5\n"
     ]
    }
   ],
   "source": [
    "U = np.array([0., 0., 1., 1.])\n",
    "V = np.array([0., 0., 1., 1.])\n",
    "u=0.5\n",
    "v=0.5\n",
    "p=1\n",
    "q=1\n",
    "n=(np.size(U)-1)-p-1\n",
    "m=(np.size(V)-1)-q-1\n",
    "Pw=np.array([[[0,0,0,1],[1,0,0,1]],\n",
    "          [[0,1,0,1],[1,1,0,1]]])\n",
    "S_r = Bspline_Surface_Point(n,p,U,m,q,V,Pw,u,v)\n",
    "print(S_r)"
   ]
  },
  {
   "cell_type": "code",
   "execution_count": null,
   "metadata": {},
   "outputs": [],
   "source": []
  }
 ],
 "metadata": {
  "kernelspec": {
   "display_name": "Python 3",
   "language": "python",
   "name": "python3"
  },
  "language_info": {
   "codemirror_mode": {
    "name": "ipython",
    "version": 3
   },
   "file_extension": ".py",
   "mimetype": "text/x-python",
   "name": "python",
   "nbconvert_exporter": "python",
   "pygments_lexer": "ipython3",
   "version": "3.7.4"
  }
 },
 "nbformat": 4,
 "nbformat_minor": 2
}
