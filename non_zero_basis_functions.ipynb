{
 "cells": [
  {
   "cell_type": "code",
   "execution_count": 8,
   "metadata": {},
   "outputs": [],
   "source": [
    "import numpy as np\n",
    "import matplotlib.pyplot as plt\n",
    "import math"
   ]
  },
  {
   "cell_type": "markdown",
   "metadata": {},
   "source": [
    "## Function to extract Non vanishing Basis functions N"
   ]
  },
  {
   "cell_type": "code",
   "execution_count": 37,
   "metadata": {},
   "outputs": [],
   "source": [
    "def non_zero_basis_func(knot_position_inp,u_inp,degree_inp,knot_vector_inp):\n",
    "    N =np.zeros(degree_inp+1)\n",
    "    N[0] = 1.0\n",
    "    left =np.zeros(degree_inp+2)\n",
    "    right =np.zeros(degree_inp+2)\n",
    "    for j in range(1,degree_inp+1):\n",
    "        left[j] = u_inp - knot_vector_inp[knot_position_inp+1-j]\n",
    "        right[j] = knot_vector_inp[knot_position_inp+j] - u_inp\n",
    "        saved= 0.0\n",
    "        for r in range(0,j):\n",
    "            temp = N[r]/(right[r+1]+left[j-r])\n",
    "            N[r] = saved + right[r+1]*temp\n",
    "            saved = left[j-r]*temp\n",
    "        N[j] = saved\n",
    "    return N\n",
    "    "
   ]
  },
  {
   "cell_type": "markdown",
   "metadata": {},
   "source": [
    "## Test Case"
   ]
  },
  {
   "cell_type": "code",
   "execution_count": 38,
   "metadata": {},
   "outputs": [
    {
     "name": "stdout",
     "output_type": "stream",
     "text": [
      "[0.125 0.75  0.125]\n"
     ]
    }
   ],
   "source": [
    "knot_vector = [0., 0., 0., 1., 2., 3., 4., 4., 5.,5.,5.]\n",
    "N_out = non_zero_basis_func(4,2.5,2,knot_vector)\n",
    "print(N_out)"
   ]
  }
 ],
 "metadata": {
  "kernelspec": {
   "display_name": "Python 3",
   "language": "python",
   "name": "python3"
  },
  "language_info": {
   "codemirror_mode": {
    "name": "ipython",
    "version": 3
   },
   "file_extension": ".py",
   "mimetype": "text/x-python",
   "name": "python",
   "nbconvert_exporter": "python",
   "pygments_lexer": "ipython3",
   "version": "3.7.4"
  }
 },
 "nbformat": 4,
 "nbformat_minor": 2
}
