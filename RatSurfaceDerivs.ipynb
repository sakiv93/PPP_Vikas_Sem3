{
 "cells": [
  {
   "cell_type": "code",
   "execution_count": 1,
   "metadata": {},
   "outputs": [],
   "source": [
    "import numpy as np\n",
    "import matplotlib.pyplot as plt\n",
    "import math\n",
    "from scipy import special"
   ]
  },
  {
   "cell_type": "markdown",
   "metadata": {},
   "source": [
    "## Small example for binomial coefficient nCr using scipy"
   ]
  },
  {
   "cell_type": "code",
   "execution_count": 2,
   "metadata": {},
   "outputs": [
    {
     "name": "stdout",
     "output_type": "stream",
     "text": [
      "20.0\n"
     ]
    }
   ],
   "source": [
    "B=special.binom(6, 3) #binom(n,r)\n",
    "print(B)"
   ]
  },
  {
   "cell_type": "markdown",
   "metadata": {},
   "source": [
    "## Aders"
   ]
  },
  {
   "cell_type": "code",
   "execution_count": 3,
   "metadata": {},
   "outputs": [],
   "source": [
    "def FindSpan(n_inp,degree_inp,u_inp,knot_vector_inp):\n",
    "    x=knot_vector_inp[degree_inp+1]\n",
    "    if (u_inp < x):\n",
    "        return degree_inp\n",
    "    else:\n",
    "        for i,pos in enumerate(knot_vector_inp):\n",
    "            if math.floor(u_inp) == pos:\n",
    "                return (i)"
   ]
  },
  {
   "cell_type": "code",
   "execution_count": 4,
   "metadata": {},
   "outputs": [],
   "source": [
    "# Derivatives are stored in ders[k][j]\n",
    "# ders[k][j] is the kth derivative of function N_(i-p+j,p)\n",
    "# If k>p the derivatives are zero.\n",
    "def DersBasisFuns(i,u,p,m,U):\n",
    "    #Inititation of dimentions for 2D matrices\n",
    "    ndu=np.zeros((p+1,p+1))\n",
    "    ders=np.zeros((p+1,p+1))\n",
    "    a=np.zeros((2,p+1))\n",
    "    left =np.zeros(p+2)\n",
    "    right =np.zeros(p+2)\n",
    "    \n",
    "    ndu[0][0]=1.0\n",
    "    for j in range(1,p+1):\n",
    "        left[j] = u - U[i+1-j]\n",
    "        right[j] = U[i+j] - u\n",
    "        saved=0.0\n",
    "        for r in range(j):\n",
    "            #Lower triangle\n",
    "            ndu[j][r] = right[r+1]+left[j-r]\n",
    "            temp=ndu[r][j-1]/ndu[j][r]\n",
    "            #Upper triangle\n",
    "            ndu[r][j] = saved+(right[r+1]*temp)\n",
    "            saved=left[j-r]*temp\n",
    "        ndu[j][j] = saved\n",
    "    for j in range (p+1): #Load the basis functions\n",
    "        ders[0][j]=ndu[j][p]\n",
    "    #This secion computes the derivatives\n",
    "    for r in range(p+1):\n",
    "        s1=0\n",
    "        s2=1 #Alternative rows in array a\n",
    "        a[0][0] = 1.0\n",
    "        #Loop to compute kth derivative\n",
    "        for k in range(1,m+1):\n",
    "            d=0.0\n",
    "            rk=r-k\n",
    "            pk=p-k\n",
    "            if(r>=k):\n",
    "                a[s2][0]=a[s1][0]/ndu[pk+1][rk]\n",
    "                d=a[s2][0]*ndu[rk][pk]\n",
    "            if(rk>=-1):\n",
    "                j1=1\n",
    "            else:\n",
    "                j1=-rk\n",
    "            if(r-1<=pk):\n",
    "                j2=k-1\n",
    "            else:\n",
    "                j2=p-r\n",
    "            for j in range (j1,j2+1):\n",
    "                a[s2][j] =(a[s1][j]-a[s1][j-1])/ndu[pk+1][rk+j]\n",
    "                d += (a[s2][j]*ndu[rk+j][pk])\n",
    "            if(r<=pk):\n",
    "                a[s2][k]=-a[s1][k-1]/ndu[pk+1][r]\n",
    "                d+=(a[s2][k]*ndu[r][pk])\n",
    "            ders[k][r]=d\n",
    "            #Switch rows\n",
    "            j=s1\n",
    "            s1=s2\n",
    "            s2=j\n",
    "            #Multiply through by the correct factors\n",
    "    r=p\n",
    "    for k in range(1,m+1):\n",
    "        for j in range(p+1):\n",
    "            ders[k][j] =ders[k][j]* r\n",
    "        r =r* (p-k)\n",
    "    return ders"
   ]
  },
  {
   "cell_type": "code",
   "execution_count": 5,
   "metadata": {},
   "outputs": [],
   "source": [
    "#An extra W is given as input to function for convinience which contain weights of corresponding control points\n",
    "def SurfaceDerivsAlgAuv(n,p,U,m,q,V,P,W,u,v,d):\n",
    "    SKL=np.zeros((p+1,q+1,3))\n",
    "    temp=np.zeros((q+1,3))\n",
    "    #print(SKL)\n",
    "    #print(temp[0])\n",
    "    #print(P[1][1])\n",
    "    du = min(d,p)\n",
    "    for k in range(p+1,d+1):\n",
    "        for l in range(d-k+1):\n",
    "            SKL[k][l]=0.0\n",
    "    dv = min(d,p)\n",
    "    for l in range(q+1,d+1):\n",
    "        for k in range(d-l+1):\n",
    "            SKL[k][l]=0.0 \n",
    "    uspan=FindSpan(n,p,u,U)\n",
    "    unders=DersBasisFuns(uspan,u,p,du,U)\n",
    "    vspan=FindSpan(m,q,v,V)\n",
    "    vnders=DersBasisFuns(vspan,v,q,dv,V)\n",
    "    for k in range(du+1):\n",
    "        for s in range(q+1):\n",
    "            temp[s] = 0.0\n",
    "            for r in range(p+1):\n",
    "                temp[s]=temp[s] + unders[k][r]*P[uspan-p+r][vspan-q+s]*W[uspan-p+r][vspan-q+s]\n",
    "            dd=min(d-k,dv)\n",
    "            for l in range(dd+1):\n",
    "                SKL[k][l] = 0.0\n",
    "                for s in range(q+1):\n",
    "                    SKL[k][l] = SKL[k][l] + vnders[l][s]*temp[s]\n",
    "    return SKL #Returning Aders here"
   ]
  },
  {
   "cell_type": "markdown",
   "metadata": {},
   "source": [
    "## wders"
   ]
  },
  {
   "cell_type": "code",
   "execution_count": 6,
   "metadata": {},
   "outputs": [],
   "source": [
    "def SurfaceDerivsAlgWuv(n,p,U,m,q,V,P,W,u,v,d):\n",
    "    SKL=np.zeros((p+1,q+1,1)) #Have to cross check if this is right way of dimensioning SKL\n",
    "    temp=np.zeros((q+1,1))    # Have to be because W is a scalar unlike P which is vector\n",
    "    #print(SKL)\n",
    "    #print(temp[0])\n",
    "    #print(P[1][1])\n",
    "    du = min(d,p)\n",
    "    for k in range(p+1,d+1):\n",
    "        for l in range(d-k+1):\n",
    "            SKL[k][l]=0.0\n",
    "    dv = min(d,p)\n",
    "    for l in range(q+1,d+1):\n",
    "        for k in range(d-l+1):\n",
    "            SKL[k][l]=0.0 \n",
    "    uspan=FindSpan(n,p,u,U)\n",
    "    unders=DersBasisFuns(uspan,u,p,du,U)\n",
    "    vspan=FindSpan(m,q,v,V)\n",
    "    vnders=DersBasisFuns(vspan,v,q,dv,V)\n",
    "    for k in range(du+1):\n",
    "        for s in range(q+1):\n",
    "            temp[s] = 0.0\n",
    "            for r in range(p+1):\n",
    "                temp[s]=temp[s] + unders[k][r]*W[uspan-p+r][vspan-q+s]\n",
    "            dd=min(d-k,dv)\n",
    "            for l in range(dd+1):\n",
    "                SKL[k][l] = 0.0\n",
    "                for s in range(q+1):\n",
    "                    SKL[k][l] = SKL[k][l] + vnders[l][s]*temp[s]\n",
    "    return SKL #Returning wders here"
   ]
  },
  {
   "cell_type": "markdown",
   "metadata": {},
   "source": [
    "## Function to extract derivatives of NURBS Surface"
   ]
  },
  {
   "cell_type": "markdown",
   "metadata": {},
   "source": [
    "### Parameters"
   ]
  },
  {
   "cell_type": "code",
   "execution_count": 7,
   "metadata": {},
   "outputs": [],
   "source": [
    "U = np.array([0., 0., 0., 1., 2., 3., 4., 4., 5., 5., 5.])\n",
    "V = np.array([0., 0., 0., 1., 2., 3., 3., 3.])\n",
    "u=2.5\n",
    "v=1\n",
    "p=2\n",
    "q=2\n",
    "n=(np.size(U)-1)-p-1\n",
    "m=(np.size(V)-1)-q-1\n",
    "d=1 # 1st deivative in both directions , d greater than p and q is allowed\n",
    "##The below control points are random but important part is adapted from NURBS book 133 page\n",
    "#               [[0.,2.,4.,1.],[0.,6.,4.,2.],[0.,2.,0.,1.]]\n",
    "#               [[4.,6.,8.,2.],[12.,24.,12.,6.],[4.,6.,0.,2.]]\n",
    "#               [[4.,2.,4.,1.],[8.,6.,4.,2.],[4.,2.,0.,1.]]\n",
    "P_W=np.array([[[0.,2.,4.,1.],[0.,2.,4.,1.],[0.,2.,4.,1.],[0.,2.,4.,1.],[0.,2.,4.,1.]],\n",
    "            [[0.,2.,4.,1.],[0.,2.,4.,1.],[0.,2.,4.,1.],[0.,2.,4.,1.],[0.,2.,4.,1.]],\n",
    "            [[0.,2.,4.,1.],[0.,2.,4.,1.],[0.,6.,4.,2.],[0.,2.,0.,1.],[0.,2.,4.,1.]],\n",
    "            [[0.,2.,4.,1.],[4.,6.,8.,2.],[12.,24.,12.,6.],[4.,6.,0.,2.],[0.,2.,4.,1.]],\n",
    "            [[0.,2.,4.,1.],[4.,2.,4.,1.],[8.,6.,4.,2.],[4.,2.,0.,1.],[0.,2.,4.,1.]],\n",
    "            [[0.,2.,4.,1.],[0.,2.,4.,1.],[0.,2.,4.,1.],[0.,2.,4.,1.],[0.,2.,4.,1.]],\n",
    "            [[0.,2.,4.,1.],[0.,2.,4.,1.],[0.,2.,4.,1.],[0.,2.,4.,1.],[0.,2.,4.,1.]],\n",
    "            [[0.,2.,4.,1.],[0.,2.,4.,1.],[0.,2.,4.,1.],[0.,2.,4.,1.],[0.,2.,4.,1.]]])\n",
    "# Control point vector (P_W_1) with all weights equal to 1\n",
    "P_W_1=np.array([[[0.,2.,4.,1.],[0.,2.,4.,1.],[0.,2.,4.,1.],[0.,2.,4.,1.],[0.,2.,4.,1.]],\n",
    "            [[0.,2.,4.,1.],[0.,2.,4.,1.],[0.,2.,4.,1.],[0.,2.,4.,1.],[0.,2.,4.,1.]],\n",
    "            [[0.,2.,4.,1.],[0.,2.,4.,1.],[0.,6.,4.,1.],[0.,2.,0.,1.],[0.,2.,4.,1.]],\n",
    "            [[0.,2.,4.,1.],[4.,6.,8.,1.],[12.,24.,12.,1.],[4.,6.,0.,1.],[0.,2.,4.,1.]],\n",
    "            [[0.,2.,4.,1.],[4.,2.,4.,1.],[8.,6.,4.,1.],[4.,2.,0.,1.],[0.,2.,4.,1.]],\n",
    "            [[0.,2.,4.,1.],[0.,2.,4.,1.],[0.,2.,4.,1.],[0.,2.,4.,1.],[0.,2.,4.,1.]],\n",
    "            [[0.,2.,4.,1.],[0.,2.,4.,1.],[0.,2.,4.,1.],[0.,2.,4.,1.],[0.,2.,4.,1.]],\n",
    "            [[0.,2.,4.,1.],[0.,2.,4.,1.],[0.,2.,4.,1.],[0.,2.,4.,1.],[0.,2.,4.,1.]]])\n",
    "P=P_W[:,:,0:3]\n",
    "W=P_W[:,:,3]\n",
    "P_1=P_W_1[:,:,0:3]\n",
    "W_1=P_W_1[:,:,3]"
   ]
  },
  {
   "cell_type": "code",
   "execution_count": 8,
   "metadata": {},
   "outputs": [],
   "source": [
    "def RatSurfaceDerivs(Aders,wders,d):\n",
    "    SKL=np.zeros((p+1,q+1,3))\n",
    "    for k in range(d+1):\n",
    "        for l in range(d-k+1):\n",
    "            v=Aders[k][l]\n",
    "            for j in range(1,l+1):\n",
    "                v=v-special.binom(l,j)*wders[0][j]*SKL[k][l-j]\n",
    "            for i in range(1,k+1):\n",
    "                v=v-special.binom(k,i)*wders[i][0]*SKL[k-i][l]\n",
    "                v2 = 0.0\n",
    "                for j in range(1,l+1):\n",
    "                    v2=v2+special.binom(l,j)*wders[i][j]*SKL[k-i][l-j]\n",
    "                v = v-special.binom(k,i)*v2\n",
    "            SKL[k][l] = v/wders[0][0]\n",
    "    return SKL"
   ]
  },
  {
   "cell_type": "markdown",
   "metadata": {},
   "source": [
    "## Test 1 with different weights"
   ]
  },
  {
   "cell_type": "code",
   "execution_count": 9,
   "metadata": {},
   "outputs": [],
   "source": [
    "Aders = SurfaceDerivsAlgAuv(n,p,U,m,q,V,P,W,u,v,d)\n",
    "wders = SurfaceDerivsAlgWuv(n,p,U,m,q,V,P,W,u,v,d)"
   ]
  },
  {
   "cell_type": "code",
   "execution_count": 10,
   "metadata": {},
   "outputs": [
    {
     "name": "stdout",
     "output_type": "stream",
     "text": [
      "[ 9.25925926 17.85185185 10.22222222]\n"
     ]
    }
   ],
   "source": [
    "NURBS_Surface_Derivative = RatSurfaceDerivs(Aders,wders,d)\n",
    "print(NURBS_Surface_Derivative[0][0])"
   ]
  },
  {
   "cell_type": "markdown",
   "metadata": {},
   "source": [
    "## Test 2 with equal weights with value 1\n",
    "### Expected result : Results same as function SurfaceDerivsAlg1"
   ]
  },
  {
   "cell_type": "code",
   "execution_count": 11,
   "metadata": {},
   "outputs": [],
   "source": [
    "Aders = SurfaceDerivsAlgAuv(n,p,U,m,q,V,P_1,W_1,u,v,d)\n",
    "wders = SurfaceDerivsAlgWuv(n,p,U,m,q,V,P_1,W_1,u,v,d)"
   ]
  },
  {
   "cell_type": "code",
   "execution_count": 12,
   "metadata": {},
   "outputs": [
    {
     "name": "stdout",
     "output_type": "stream",
     "text": [
      "[ 6.75 12.25  8.5 ]\n"
     ]
    }
   ],
   "source": [
    "NURBS_Surface_Derivative = RatSurfaceDerivs(Aders,wders,d)\n",
    "print(NURBS_Surface_Derivative[0][0])"
   ]
  },
  {
   "cell_type": "markdown",
   "metadata": {},
   "source": [
    "## $***IMP***$ Check the result with any available code online $***IMP***$"
   ]
  },
  {
   "cell_type": "code",
   "execution_count": null,
   "metadata": {},
   "outputs": [],
   "source": []
  }
 ],
 "metadata": {
  "kernelspec": {
   "display_name": "Python 3",
   "language": "python",
   "name": "python3"
  },
  "language_info": {
   "codemirror_mode": {
    "name": "ipython",
    "version": 3
   },
   "file_extension": ".py",
   "mimetype": "text/x-python",
   "name": "python",
   "nbconvert_exporter": "python",
   "pygments_lexer": "ipython3",
   "version": "3.7.4"
  }
 },
 "nbformat": 4,
 "nbformat_minor": 2
}
