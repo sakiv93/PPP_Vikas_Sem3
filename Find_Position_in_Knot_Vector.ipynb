{
 "cells": [
  {
   "cell_type": "code",
   "execution_count": 21,
   "metadata": {},
   "outputs": [],
   "source": [
    "import numpy as np\n",
    "import matplotlib.pyplot as plt\n",
    "import math"
   ]
  },
  {
   "cell_type": "code",
   "execution_count": null,
   "metadata": {},
   "outputs": [],
   "source": [
    "def knot_position_func(n_inp,degree_inp,u_inp,knot_vector_inp):\n",
    "    for i,pos in enumerate(knot_vector_inp):\n",
    "        if math.floor(u_inp) == pos:\n",
    "            return (i)"
   ]
  },
  {
   "cell_type": "code",
   "execution_count": 43,
   "metadata": {},
   "outputs": [
    {
     "name": "stdout",
     "output_type": "stream",
     "text": [
      "6\n"
     ]
    }
   ],
   "source": [
    "#Can take input from knot vector function\n",
    "#Defining input parameters to funtion here manually\n",
    "knot_vector = np.array([0., 0., 0., 1., 2., 3., 4., 4., 4.])\n",
    "highest_index = np.size(knot_vector)-1\n",
    "degree=2\n",
    "n=highest_index-degree-1\n",
    "knot_position = knot_position_func(n,degree,4,knot_vector)\n",
    "print(knot_position)"
   ]
  }
 ],
 "metadata": {
  "kernelspec": {
   "display_name": "Python 3",
   "language": "python",
   "name": "python3"
  },
  "language_info": {
   "codemirror_mode": {
    "name": "ipython",
    "version": 3
   },
   "file_extension": ".py",
   "mimetype": "text/x-python",
   "name": "python",
   "nbconvert_exporter": "python",
   "pygments_lexer": "ipython3",
   "version": "3.7.4"
  }
 },
 "nbformat": 4,
 "nbformat_minor": 2
}
