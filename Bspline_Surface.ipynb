{
 "cells": [
  {
   "cell_type": "code",
   "execution_count": 1,
   "metadata": {},
   "outputs": [],
   "source": [
    "import numpy as np\n",
    "import matplotlib.pyplot as plt"
   ]
  },
  {
   "cell_type": "code",
   "execution_count": 2,
   "metadata": {},
   "outputs": [],
   "source": [
    "# B-Spline basic function definition\n",
    "# It requires input i=,k=Degree of the function and u values which are knot values divided for generating curve\n",
    "def N(i,k,u):\n",
    "    #This has to be generated from knot vector function. Here its written manually\n",
    "    #t=np.array([0., 0., 0., 1., 2., 3., 4., 4.,4.])\n",
    "    if k==0:\n",
    "        if t[i] <= u < t[i+1]:\n",
    "            return 1\n",
    "        else:\n",
    "            return 0\n",
    "    else:\n",
    "        # If else loop is used to avoid division by zero.\n",
    "        if (t[i+k]-t[i]) == 0:\n",
    "            first_term=0\n",
    "        else:\n",
    "            first_term = ((u-t[i])*(N(i,k-1,u))/(t[i+k]-t[i]))\n",
    "        if (t[i+k+1]-t[i+1]) == 0:\n",
    "            second_term = 0\n",
    "        else:\n",
    "            second_term = ((t[i+k+1]-u)*(N(i+1,k-1,u))/(t[i+k+1]-t[i+1]))\n",
    "        #return(((u-t[i])*(N(i,k-1,u))/(t[i+k-1]-t[i])) + ((t[i+k]-u)*(N(i+1,k-1,u))/(t[i+k]-t[i+1])))\n",
    "        return(first_term+second_term)"
   ]
  },
  {
   "cell_type": "code",
   "execution_count": 3,
   "metadata": {},
   "outputs": [],
   "source": [
    "#Parameters\n",
    "#Have to modify to in each segment\n",
    "control_points_x=3\n",
    "control_points_x=4\n",
    "n_x=control_points_x-1\n",
    "n_y=control_points_y-1\n",
    "degree_x=2\n",
    "degree_y=2\n",
    "number_of_segments_x=n_x-(degree_x+1)+2\n",
    "number_of_segments_x=n_y-(degree_y+1)+2\n",
    "#u=np.arange(0,number_of_segments+1,1)"
   ]
  },
  {
   "cell_type": "code",
   "execution_count": 6,
   "metadata": {},
   "outputs": [
    {
     "name": "stdout",
     "output_type": "stream",
     "text": [
      "[[[0. 0.]\n",
      "  [1. 0.]\n",
      "  [2. 0.]]\n",
      "\n",
      " [[0. 1.]\n",
      "  [1. 1.]\n",
      "  [2. 1.]]\n",
      "\n",
      " [[0. 2.]\n",
      "  [1. 2.]\n",
      "  [2. 2.]]]\n"
     ]
    }
   ],
   "source": [
    "P_xy = np.array([[[0., 0.],[1., 0.],[2., 0.]],[[0., 1.],[1., 1.],[2., 1.]],[[0., 2.],[1., 2.],[2., 2.]]])\n",
    "print(P_xy)\n"
   ]
  },
  {
   "cell_type": "code",
   "execution_count": null,
   "metadata": {},
   "outputs": [],
   "source": []
  }
 ],
 "metadata": {
  "kernelspec": {
   "display_name": "Python 3",
   "language": "python",
   "name": "python3"
  },
  "language_info": {
   "codemirror_mode": {
    "name": "ipython",
    "version": 3
   },
   "file_extension": ".py",
   "mimetype": "text/x-python",
   "name": "python",
   "nbconvert_exporter": "python",
   "pygments_lexer": "ipython3",
   "version": "3.7.4"
  }
 },
 "nbformat": 4,
 "nbformat_minor": 2
}
