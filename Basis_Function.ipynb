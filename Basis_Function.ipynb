{
 "cells": [
  {
   "cell_type": "code",
   "execution_count": 1,
   "metadata": {},
   "outputs": [],
   "source": [
    "import numpy as np\n",
    "import matplotlib.pyplot as plt"
   ]
  },
  {
   "cell_type": "markdown",
   "metadata": {},
   "source": [
    "## Function to evaluate NURBS Basis function for given index and degree"
   ]
  },
  {
   "cell_type": "code",
   "execution_count": 24,
   "metadata": {},
   "outputs": [],
   "source": [
    "def Basis_Functon(degree_inp,m_inp,knot_vector_inp,i_inp,u_inp):\n",
    "    N=np.zeros(degree_inp+2)\n",
    "    if ((i_inp==0 and u_inp == knot_vector_inp[0]) or (i_inp == m_inp-degree_inp-1 and u_inp==knot_vector_inp[m_inp])):\n",
    "        N_ip = 1.0\n",
    "        return N_ip\n",
    "    if (u_inp < knot_vector_inp[i_inp] or u_inp >= knot_vector_inp[i_inp+degree_inp+1]):\n",
    "        N_ip = 0.0\n",
    "        return N_ip\n",
    "    for j in range(degree_inp+1):\n",
    "        if (u_inp >= knot_vector_inp[i_inp+j] and u_inp < knot_vector_inp[i_inp+j+1]):\n",
    "            N[j]=1.0\n",
    "        else:\n",
    "            N[j]=0.0\n",
    "    for k in range(degree_inp+1):\n",
    "        if (N[0]==0.0):\n",
    "            saved=0.0\n",
    "        else:\n",
    "            saved=((u_inp-knot_vector_inp[i_inp])*N[0])/(knot_vector_inp[i_inp+k]-knot_vector_inp[i_inp])\n",
    "        for l in range(degree_inp-k+1):\n",
    "            Uleft=knot_vector_inp[i_inp+l+1]\n",
    "            Uright=knot_vector_inp[i_inp+l+k+1]\n",
    "            if(N[l+1]==0.0):\n",
    "                N[l]=saved\n",
    "                saved=0.0\n",
    "            else:\n",
    "                temp=N[l+1]/(Uright-Uleft)\n",
    "                N[l]=saved+(Uright-u_inp)*temp\n",
    "                saved=(u_inp-Uleft)*temp\n",
    "    N_ip=N[0]\n",
    "    return N_ip\n",
    "        "
   ]
  },
  {
   "cell_type": "markdown",
   "metadata": {},
   "source": [
    "## Test Case"
   ]
  },
  {
   "cell_type": "code",
   "execution_count": 25,
   "metadata": {},
   "outputs": [
    {
     "name": "stdout",
     "output_type": "stream",
     "text": [
      "nan\n",
      "10\n"
     ]
    },
    {
     "name": "stderr",
     "output_type": "stream",
     "text": [
      "D:\\Install_Path\\Jupyter\\Install\\lib\\site-packages\\ipykernel_launcher.py:26: RuntimeWarning: divide by zero encountered in double_scalars\n",
      "D:\\Install_Path\\Jupyter\\Install\\lib\\site-packages\\ipykernel_launcher.py:27: RuntimeWarning: invalid value encountered in double_scalars\n"
     ]
    }
   ],
   "source": [
    "knot_vector = [0., 0., 0., 1., 2., 3., 4., 4., 5.,5.,5.]\n",
    "N_out = Basis_Functon(2,(np.size(knot_vector)-1),knot_vector,3,2.5)\n",
    "print(N_out)\n",
    "print(np.size(knot_vector)-1)"
   ]
  },
  {
   "cell_type": "code",
   "execution_count": null,
   "metadata": {},
   "outputs": [],
   "source": []
  }
 ],
 "metadata": {
  "kernelspec": {
   "display_name": "Python 3",
   "language": "python",
   "name": "python3"
  },
  "language_info": {
   "codemirror_mode": {
    "name": "ipython",
    "version": 3
   },
   "file_extension": ".py",
   "mimetype": "text/x-python",
   "name": "python",
   "nbconvert_exporter": "python",
   "pygments_lexer": "ipython3",
   "version": "3.7.4"
  }
 },
 "nbformat": 4,
 "nbformat_minor": 2
}
