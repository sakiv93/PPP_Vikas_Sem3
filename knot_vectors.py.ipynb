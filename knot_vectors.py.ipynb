{
 "cells": [
  {
   "cell_type": "code",
   "execution_count": 1,
   "metadata": {},
   "outputs": [],
   "source": [
    "import numpy as np\n",
    "import matplotlib.pyplot as plt"
   ]
  },
  {
   "cell_type": "code",
   "execution_count": 20,
   "metadata": {},
   "outputs": [],
   "source": [
    "control_points=6 #Number of control points\n",
    "n=control_points-1\n",
    "degree=2         #Degree of the B-spline curve\n",
    "knot_vector = np.zeros(n+(degree+1)+1)\n",
    "for i in range (n+(degree+1)+1):\n",
    "    if i<(degree+1):\n",
    "        knot_vector[i]=0\n",
    "    elif (degree+1)<=i<=n:\n",
    "        knot_vector[i]=i-(degree+1)+1\n",
    "    else:\n",
    "        knot_vector[i]=n-(degree+1)+2"
   ]
  },
  {
   "cell_type": "code",
   "execution_count": 21,
   "metadata": {},
   "outputs": [
    {
     "name": "stdout",
     "output_type": "stream",
     "text": [
      "[0. 0. 0. 1. 2. 3. 4. 4. 4.]\n"
     ]
    }
   ],
   "source": [
    "print(knot_vector)"
   ]
  },
  {
   "cell_type": "code",
   "execution_count": null,
   "metadata": {},
   "outputs": [],
   "source": []
  }
 ],
 "metadata": {
  "kernelspec": {
   "display_name": "Python 3",
   "language": "python",
   "name": "python3"
  },
  "language_info": {
   "codemirror_mode": {
    "name": "ipython",
    "version": 3
   },
   "file_extension": ".py",
   "mimetype": "text/x-python",
   "name": "python",
   "nbconvert_exporter": "python",
   "pygments_lexer": "ipython3",
   "version": "3.7.4"
  }
 },
 "nbformat": 4,
 "nbformat_minor": 2
}
