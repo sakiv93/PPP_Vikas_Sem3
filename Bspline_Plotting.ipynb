{
 "cells": [
  {
   "cell_type": "code",
   "execution_count": 1,
   "metadata": {},
   "outputs": [],
   "source": [
    "import numpy as np\n",
    "import matplotlib.pyplot as plt"
   ]
  },
  {
   "cell_type": "code",
   "execution_count": 2,
   "metadata": {},
   "outputs": [],
   "source": [
    "# B-Spline basic function definition\n",
    "# It requires input i=,k=Degree of the function and u values which are knot values divided for generating curve\n",
    "def N(i,k,u):\n",
    "    #This has to be generated from knot vector function. Here its written manually\n",
    "    #t=np.array([0., 0., 0., 1., 2., 3., 4., 4.,4.])\n",
    "    if k==0:\n",
    "        if t[i] <= u < t[i+1]:\n",
    "            return 1\n",
    "        else:\n",
    "            return 0\n",
    "    else:\n",
    "        # If else loop is used to avoid division by zero.\n",
    "        if (t[i+k]-t[i]) == 0:\n",
    "            first_term=0\n",
    "        else:\n",
    "            first_term = ((u-t[i])*(N(i,k-1,u))/(t[i+k]-t[i]))\n",
    "        if (t[i+k+1]-t[i+1]) == 0:\n",
    "            second_term = 0\n",
    "        else:\n",
    "            second_term = ((t[i+k+1]-u)*(N(i+1,k-1,u))/(t[i+k+1]-t[i+1]))\n",
    "        #return(((u-t[i])*(N(i,k-1,u))/(t[i+k-1]-t[i])) + ((t[i+k]-u)*(N(i+1,k-1,u))/(t[i+k]-t[i+1])))\n",
    "        return(first_term+second_term)"
   ]
  },
  {
   "cell_type": "code",
   "execution_count": 11,
   "metadata": {},
   "outputs": [],
   "source": [
    "#Parameters\n",
    "control_points=5\n",
    "n=control_points-1\n",
    "degree=2\n",
    "number_of_segments=n-(degree+1)+2\n",
    "#u=np.arange(0,number_of_segments+1,1)"
   ]
  },
  {
   "cell_type": "code",
   "execution_count": 12,
   "metadata": {},
   "outputs": [
    {
     "name": "stdout",
     "output_type": "stream",
     "text": [
      "[0.         0.06122449 0.12244898 0.18367347 0.24489796 0.30612245\n",
      " 0.36734694 0.42857143 0.48979592 0.55102041 0.6122449  0.67346939\n",
      " 0.73469388 0.79591837 0.85714286 0.91836735 0.97959184 1.04081633\n",
      " 1.10204082 1.16326531 1.2244898  1.28571429 1.34693878 1.40816327\n",
      " 1.46938776 1.53061224 1.59183673 1.65306122 1.71428571 1.7755102\n",
      " 1.83673469 1.89795918 1.95918367 2.02040816 2.08163265 2.14285714\n",
      " 2.20408163 2.26530612 2.32653061 2.3877551  2.44897959 2.51020408\n",
      " 2.57142857 2.63265306 2.69387755 2.75510204 2.81632653 2.87755102\n",
      " 2.93877551 3.        ]\n"
     ]
    }
   ],
   "source": [
    "P = np.array([0., 0., 1., 0., 0.])\n",
    "t=np.array([0., 0., 0., 1., 2., 3., 3., 3.])\n",
    "#print(np.size(P))\n",
    "size_of_u = 50\n",
    "#i=np.size(P)\n",
    "B_spline=np.zeros((size_of_u))\n",
    "u_values=np.linspace(0,number_of_segments,size_of_u)\n",
    "print(u_values)\n",
    "for j,uu in enumerate(u_values):\n",
    "    b_spline=0\n",
    "    for ii in range(np.size(P)):\n",
    "        #print(uu)\n",
    "        b_spline = b_spline + N(ii,degree,uu)*P[ii]\n",
    "        #print('y:',b_spline)\n",
    "    B_spline[j] = b_spline\n",
    "    #print(B_spline[j])\n",
    "#print(B_spline)"
   ]
  },
  {
   "cell_type": "code",
   "execution_count": 13,
   "metadata": {},
   "outputs": [
    {
     "data": {
      "text/plain": [
       "[<matplotlib.lines.Line2D at 0x56a4d88>]"
      ]
     },
     "execution_count": 13,
     "metadata": {},
     "output_type": "execute_result"
    },
    {
     "data": {
      "image/png": "[encoded data removed]",
      "text/plain": [
       "<Figure size 432x288 with 1 Axes>"
      ]
     },
     "metadata": {
      "needs_background": "light"
     },
     "output_type": "display_data"
    }
   ],
   "source": [
    "fig,ax=plt.subplots()\n",
    "ax.plot(u_values,B_spline)"
   ]
  },
  {
   "cell_type": "code",
   "execution_count": null,
   "metadata": {},
   "outputs": [],
   "source": []
  }
 ],
 "metadata": {
  "kernelspec": {
   "display_name": "Python 3",
   "language": "python",
   "name": "python3"
  },
  "language_info": {
   "codemirror_mode": {
    "name": "ipython",
    "version": 3
   },
   "file_extension": ".py",
   "mimetype": "text/x-python",
   "name": "python",
   "nbconvert_exporter": "python",
   "pygments_lexer": "ipython3",
   "version": "3.7.4"
  }
 },
 "nbformat": 4,
 "nbformat_minor": 2
}
