{
 "cells": [
  {
   "cell_type": "code",
   "execution_count": 1,
   "metadata": {},
   "outputs": [],
   "source": [
    "import numpy as np\n",
    "import matplotlib.pyplot as plt\n",
    "import math\n",
    "from scipy import special"
   ]
  },
  {
   "cell_type": "markdown",
   "metadata": {},
   "source": [
    "## Find Span of u in Knot vector"
   ]
  },
  {
   "cell_type": "code",
   "execution_count": 2,
   "metadata": {},
   "outputs": [],
   "source": [
    "def FindSpan(n_inp,degree_inp,u_inp,knot_vector_inp):\n",
    "    x=knot_vector_inp[degree_inp+1]\n",
    "    if (u_inp < x):\n",
    "        return degree_inp\n",
    "    else:\n",
    "        for i,pos in enumerate(knot_vector_inp):\n",
    "            if math.floor(u_inp) == pos:\n",
    "                return (i)"
   ]
  },
  {
   "cell_type": "markdown",
   "metadata": {},
   "source": [
    "## Non Zero Basis Functions"
   ]
  },
  {
   "cell_type": "code",
   "execution_count": 3,
   "metadata": {},
   "outputs": [],
   "source": [
    "#The output is stored in N[0],....N[p]\n",
    "#These are non zero functions in a given span\n",
    "#i is the span of the u value\n",
    "#we get N[i-p].........,N[i]\n",
    "# So if i is 3 then N[3] is stored in N[p] of the output matrix\n",
    "def BasisFuns(i,u,p,U):\n",
    "    N =np.zeros(p+1)\n",
    "    N[0] = 1.0\n",
    "    left =np.zeros(p+2)\n",
    "    right =np.zeros(p+2)\n",
    "    for j in range(1,p+1):\n",
    "        left[j] = u - U[i+1-j]\n",
    "        right[j] = U[i+j] - u\n",
    "        saved= 0.0\n",
    "        for r in range(0,j):\n",
    "            temp = N[r]/(right[r+1]+left[j-r])\n",
    "            N[r] = saved + right[r+1]*temp\n",
    "            saved = left[j-r]*temp\n",
    "        N[j] = saved\n",
    "    return N"
   ]
  },
  {
   "cell_type": "markdown",
   "metadata": {},
   "source": [
    "## Derivative of Basis Functions"
   ]
  },
  {
   "cell_type": "code",
   "execution_count": 4,
   "metadata": {},
   "outputs": [],
   "source": [
    "# Derivatives are stored in ders[k][j]\n",
    "# ders[k][j] is the kth derivative of function N_(i-p+j,p)\n",
    "# If k>p the derivatives are zero.\n",
    "def DersBasisFuns(i,u,p,n,U):\n",
    "    #Inititation of dimentions for 2D matrices\n",
    "    ndu=np.zeros((p+1,p+1))\n",
    "    ders=np.zeros((p+1,p+1))\n",
    "    a=np.zeros((2,p+1))\n",
    "    left =np.zeros(p+2)\n",
    "    right =np.zeros(p+2)\n",
    "    \n",
    "    ndu[0][0]=1.0\n",
    "    for j in range(1,p+1):\n",
    "        left[j] = u - U[i+1-j]\n",
    "        right[j] = U[i+j] - u\n",
    "        saved=0.0\n",
    "        for r in range(j):\n",
    "            #Lower triangle\n",
    "            ndu[j][r] = right[r+1]+left[j-r]\n",
    "            temp=ndu[r][j-1]/ndu[j][r]\n",
    "            #Upper triangle\n",
    "            ndu[r][j] = saved+(right[r+1]*temp)\n",
    "            saved=left[j-r]*temp\n",
    "        ndu[j][j] = saved\n",
    "    for j in range (p+1): #Load the basis functions\n",
    "        ders[0][j]=ndu[j][p]\n",
    "    #This secion computes the derivatives\n",
    "    for r in range(p+1):\n",
    "        s1=0\n",
    "        s2=1 #Alternative rows in array a\n",
    "        a[0][0] = 1.0\n",
    "        #Loop to compute kth derivative\n",
    "        for k in range(1,n+1):\n",
    "            d=0.0\n",
    "            rk=r-k\n",
    "            pk=p-k\n",
    "            if(r>=k):\n",
    "                a[s2][0]=a[s1][0]/ndu[pk+1][rk]\n",
    "                d=a[s2][0]*ndu[rk][pk]\n",
    "            if(rk>=-1):\n",
    "                j1=1\n",
    "            else:\n",
    "                j1=-rk\n",
    "            if(r-1<=pk):\n",
    "                j2=k-1\n",
    "            else:\n",
    "                j2=p-r\n",
    "            for j in range (j1,j2+1):\n",
    "                a[s2][j] =(a[s1][j]-a[s1][j-1])/ndu[pk+1][rk+j]\n",
    "                d += (a[s2][j]*ndu[rk+j][pk])\n",
    "            if(r<=pk):\n",
    "                a[s2][k]=-a[s1][k-1]/ndu[pk+1][r]\n",
    "                d+=(a[s2][k]*ndu[r][pk])\n",
    "            ders[k][r]=d\n",
    "            #Switch rows\n",
    "            j=s1\n",
    "            s1=s2\n",
    "            s2=j\n",
    "            #Multiply through by the correct factors\n",
    "    r=p\n",
    "    for k in range(1,n+1):\n",
    "        for j in range(p+1):\n",
    "            ders[k][j] =ders[k][j]* r\n",
    "        r =r* (p-k)\n",
    "    return ders"
   ]
  },
  {
   "cell_type": "markdown",
   "metadata": {},
   "source": [
    "## To compute denominator of NURBS Basis function"
   ]
  },
  {
   "cell_type": "code",
   "execution_count": 5,
   "metadata": {},
   "outputs": [],
   "source": [
    "def SurfaceDerivsAlgWuv(n,p,U,m,q,V,P,W,u,v,d):\n",
    "    SKL=np.zeros((20,20,1)) #Have to cross check if this is right way of dimensioning SKL\n",
    "    temp=np.zeros((20,1))    # Have to be because W is a scalar unlike P which is vector\n",
    "    #print(SKL)\n",
    "    #print(temp[0])\n",
    "    #print(P[1][1])\n",
    "    du = min(d,p)\n",
    "    for k in range(p+1,d+1):\n",
    "        for l in range(d-k+1):\n",
    "            SKL[k][l]=0.0\n",
    "    dv = min(d,q)\n",
    "    for l in range(q+1,d+1):\n",
    "        for k in range(d-l+1):\n",
    "            SKL[k][l]=0.0 \n",
    "    uspan=FindSpan(n,p,u,U)\n",
    "    unders=DersBasisFuns(uspan,u,p,du,U)\n",
    "    vspan=FindSpan(m,q,v,V)\n",
    "    vnders=DersBasisFuns(vspan,v,q,dv,V)\n",
    "    for k in range(du+1):\n",
    "        for s in range(q+1):\n",
    "            temp[s] = 0.0\n",
    "            for r in range(p+1):\n",
    "                temp[s]=temp[s] + unders[k][r]*W[uspan-p+r][vspan-q+s]\n",
    "            dd=min(d-k,dv)\n",
    "            for l in range(dd+1):\n",
    "                SKL[k][l] = 0.0\n",
    "                for s in range(q+1):\n",
    "                    SKL[k][l] = SKL[k][l] + vnders[l][s]*temp[s]\n",
    "    return SKL"
   ]
  },
  {
   "cell_type": "code",
   "execution_count": 6,
   "metadata": {},
   "outputs": [],
   "source": [
    "# xi=0.6  #Have to loop over **at the end**\n",
    "# eta=0.6\n",
    "# p=3\n",
    "# q=3\n",
    "# U=np.array([0., 0., 0., 0., 1., 2., 2., 2., 2.])\n",
    "# V=np.array([0., 0., 0., 0., 1., 2., 2., 2., 2.])\n",
    "# P_W=np.array([[[0,0,0,1],[0,0.25,0,1],[0,0.5,0,1],[0,0.75,0,1],[0,1,0,1]],\n",
    "#               [[0.25,0,0,1],[0.25,0.25,0,1],[0.25,0.5,0,1],[0.25,0.75,0,1],[0.25,1,0,1]],\n",
    "#               [[0.5,0,0,1],[0.5,0.25,0,1],[0.5,0.5,0,1],[0.5,0.75,0,1],[0.5,1,0,1]],\n",
    "#               [[0.75,0,0,1],[0.75,0.25,0,1],[0.75,0.5,0,1],[0.75,0.75,0,1],[0.75,1,0,1]],\n",
    "#               [[1.0,0,0,1],[1.0,0.25,0,1],[1.0,0.5,0,1],[1.0,0.75,0,1],[1.0,1,0,1]]])\n",
    "# n=(np.size(U)-1)-p-1\n",
    "# m=(np.size(V)-1)-q-1\n",
    "# P_1=P_W[:,:,0:3]\n",
    "# W_1=P_W[:,:,3]\n",
    "# d=2\n",
    "\n",
    "# uspan = FindSpan(n,p,xi,U)\n",
    "# BFu = BasisFuns(uspan,xi,p,U)\n",
    "# DBFu = DersBasisFuns(uspan,xi,p,d,U) # Cross check this d\n",
    "\n",
    "# vspan = FindSpan(m,q,eta,V)\n",
    "# BFv = BasisFuns(vspan,eta,q,V)\n",
    "# DBFv = DersBasisFuns(vspan,eta,q,d,V)\n",
    "\n",
    "# #------loop for gauss points-----------#abs    #Have to loop over **at the end**\n",
    "# #Assuming weights as 1 as of now\n",
    "# Den = SurfaceDerivsAlgWuv(n,p,U,m,q,V,P_1,W_1,xi,eta,d)\n",
    "# Num = BFu[p]*BFv[p]               # a,b control point index\n",
    "# Num_du = DBFu[1][p]*BFv[p]\n",
    "# Num_dv = BFu[p]*DBFv[1][p]\n",
    "# Denom = Den[0][0]\n",
    "# Denom_du = Den[1][0]\n",
    "# Denom_dv = Den[0][1]\n",
    "# Bu = Num_du/Denom - Denom_du*Num/(Denom*Denom)\n",
    "# print(BFu[3])\n",
    "# print(Num,Num_du,Num_dv,Denom,Denom_du,Denom_dv,Bu)\n",
    "\n",
    "\n",
    "\n",
    "\n"
   ]
  },
  {
   "cell_type": "markdown",
   "metadata": {},
   "source": [
    "## Loop over i and j (Over all Control points)"
   ]
  },
  {
   "cell_type": "code",
   "execution_count": 25,
   "metadata": {},
   "outputs": [],
   "source": [
    "xi=1.6  #Have to loop over **at the end**\n",
    "eta=1.6\n",
    "p=3\n",
    "q=3\n",
    "U=np.array([0., 0., 0., 0., 1., 2., 2., 2., 2.])\n",
    "V=np.array([0., 0., 0., 0., 1., 2., 2., 2., 2.])\n",
    "P_W=np.array([[[0,0,0,1],[0,0.25,0,1],[0,0.5,0,1],[0,0.75,0,1],[0,1,0,1]],\n",
    "              [[0.25,0,0,1],[0.25,0.25,0,1],[0.25,0.5,0,1],[0.25,0.75,0,1],[0.25,1,0,1]],\n",
    "              [[0.5,0,0,1],[0.5,0.25,0,1],[0.5,0.5,0,1],[0.5,0.75,0,1],[0.5,1,0,1]],\n",
    "              [[0.75,0,0,1],[0.75,0.25,0,1],[0.75,0.5,0,1],[0.75,0.75,0,1],[0.75,1,0,1]],\n",
    "              [[1.0,0,0,1],[1.0,0.25,0,1],[1.0,0.5,0,1],[1.0,0.75,0,1],[1.0,1,0,1]]])\n",
    "n=(np.size(U)-1)-p-1\n",
    "m=(np.size(V)-1)-q-1\n",
    "P_1=P_W[:,:,0:3]\n",
    "W_1=P_W[:,:,3]\n",
    "d=2\n",
    "ncpxi=np.shape(P_W)[1]  #No.of control points xi direction\n",
    "ncpeta=np.shape(P_W)[1] #No.of control points eta direction"
   ]
  },
  {
   "cell_type": "code",
   "execution_count": 30,
   "metadata": {},
   "outputs": [
    {
     "name": "stdout",
     "output_type": "stream",
     "text": [
      "[1 2 3 4]\n"
     ]
    }
   ],
   "source": [
    "uspan = FindSpan(n,p,xi,U)\n",
    "vspan = FindSpan(m,q,eta,V)\n",
    "# Indices of non vanishing basis functions\n",
    "NVu = np.arange(uspan-p,uspan+1,1) #Thoroughly checked. Can crosscheck again\n",
    "NVv = np.arange(vspan-p,vspan+1,1)\n",
    "print(NVu)\n",
    "Den = SurfaceDerivsAlgWuv(n,p,U,m,q,V,P_1,W_1,xi,eta,d)\n",
    "Denom = Den[0][0]\n",
    "Denom_du = Den[1][0]\n",
    "Denom_dv = Den[0][1]\n",
    "dR_du = np.zeros((ncpxi,ncpxi))\n",
    "dR_dv = np.zeros((ncpxi,ncpxi))"
   ]
  },
  {
   "cell_type": "code",
   "execution_count": 27,
   "metadata": {},
   "outputs": [
    {
     "ename": "IndexError",
     "evalue": "index 4 is out of bounds for axis 0 with size 4",
     "output_type": "error",
     "traceback": [
      "\u001b[1;31m---------------------------------------------------------------------------\u001b[0m",
      "\u001b[1;31mIndexError\u001b[0m                                Traceback (most recent call last)",
      "\u001b[1;32m<ipython-input-27-4dfbae5ce39f>\u001b[0m in \u001b[0;36m<module>\u001b[1;34m\u001b[0m\n\u001b[0;32m      5\u001b[0m         \u001b[0mBFv\u001b[0m \u001b[1;33m=\u001b[0m \u001b[0mBasisFuns\u001b[0m\u001b[1;33m(\u001b[0m\u001b[0mvspan\u001b[0m\u001b[1;33m,\u001b[0m\u001b[0meta\u001b[0m\u001b[1;33m,\u001b[0m\u001b[0mq\u001b[0m\u001b[1;33m,\u001b[0m\u001b[0mV\u001b[0m\u001b[1;33m)\u001b[0m\u001b[1;33m\u001b[0m\u001b[1;33m\u001b[0m\u001b[0m\n\u001b[0;32m      6\u001b[0m         \u001b[1;31m#print(BFv)\u001b[0m\u001b[1;33m\u001b[0m\u001b[1;33m\u001b[0m\u001b[1;33m\u001b[0m\u001b[0m\n\u001b[1;32m----> 7\u001b[1;33m         \u001b[0mNum\u001b[0m \u001b[1;33m=\u001b[0m \u001b[0mBFu\u001b[0m\u001b[1;33m[\u001b[0m\u001b[0mii\u001b[0m\u001b[1;33m]\u001b[0m\u001b[1;33m*\u001b[0m\u001b[0mBFv\u001b[0m\u001b[1;33m[\u001b[0m\u001b[0mjj\u001b[0m\u001b[1;33m]\u001b[0m\u001b[1;33m\u001b[0m\u001b[1;33m\u001b[0m\u001b[0m\n\u001b[0m\u001b[0;32m      8\u001b[0m         \u001b[1;31m#print(Num)\u001b[0m\u001b[1;33m\u001b[0m\u001b[1;33m\u001b[0m\u001b[1;33m\u001b[0m\u001b[0m\n\u001b[0;32m      9\u001b[0m         \u001b[0mDBFu\u001b[0m \u001b[1;33m=\u001b[0m \u001b[0mDersBasisFuns\u001b[0m\u001b[1;33m(\u001b[0m\u001b[0muspan\u001b[0m\u001b[1;33m,\u001b[0m\u001b[0mxi\u001b[0m\u001b[1;33m,\u001b[0m\u001b[0mp\u001b[0m\u001b[1;33m,\u001b[0m\u001b[0md\u001b[0m\u001b[1;33m,\u001b[0m\u001b[0mU\u001b[0m\u001b[1;33m)\u001b[0m\u001b[1;33m\u001b[0m\u001b[1;33m\u001b[0m\u001b[0m\n",
      "\u001b[1;31mIndexError\u001b[0m: index 4 is out of bounds for axis 0 with size 4"
     ]
    }
   ],
   "source": [
    "for ii in NVu:\n",
    "    for jj in NVv:\n",
    "        BFu = BasisFuns(uspan,xi,p,U)\n",
    "        #print(BFu)\n",
    "        BFv = BasisFuns(vspan,eta,q,V)\n",
    "        #print(BFv)\n",
    "        Num = BFu[ii]*BFv[jj]\n",
    "        #print(Num)\n",
    "        DBFu = DersBasisFuns(uspan,xi,p,d,U)\n",
    "        #print(DBFu)\n",
    "        DBFv = DersBasisFuns(vspan,eta,q,d,V)\n",
    "        #print(DBFv)\n",
    "        Num_du = DBFu[1][ii]*BFv[jj]\n",
    "        #print(Num_du)\n",
    "        Num_dv = BFu[ii]*DBFv[1][jj]\n",
    "        #print(Num_dv)\n",
    "        dR_du[ii][jj] = Num_du/Denom - Denom_du*Num/(Denom*Denom)\n",
    "        #print(dR_du[ii][jj])\n",
    "        dR_dv[ii][jj] = Num_dv/Denom - Denom_dv*Num/(Denom*Denom) \n",
    "        #print(dR_dv[ii][jj])"
   ]
  },
  {
   "cell_type": "code",
   "execution_count": 28,
   "metadata": {},
   "outputs": [
    {
     "name": "stdout",
     "output_type": "stream",
     "text": [
      "[[ 0.       0.       0.       0.       0.     ]\n",
      " [ 0.      -0.12672 -0.42624 -0.15552  0.     ]\n",
      " [ 0.       0.       0.       0.       0.     ]\n",
      " [ 0.       0.       0.       0.       0.     ]\n",
      " [ 0.       0.       0.       0.       0.     ]] [[ 0.       0.       0.       0.       0.     ]\n",
      " [ 0.      -0.12672 -0.04224  0.19008  0.     ]\n",
      " [ 0.       0.       0.       0.       0.     ]\n",
      " [ 0.       0.       0.       0.       0.     ]\n",
      " [ 0.       0.       0.       0.       0.     ]]\n"
     ]
    }
   ],
   "source": [
    "print(dR_du,dR_dv)"
   ]
  },
  {
   "cell_type": "code",
   "execution_count": null,
   "metadata": {},
   "outputs": [],
   "source": []
  }
 ],
 "metadata": {
  "kernelspec": {
   "display_name": "Python 3",
   "language": "python",
   "name": "python3"
  },
  "language_info": {
   "codemirror_mode": {
    "name": "ipython",
    "version": 3
   },
   "file_extension": ".py",
   "mimetype": "text/x-python",
   "name": "python",
   "nbconvert_exporter": "python",
   "pygments_lexer": "ipython3",
   "version": "3.7.4"
  }
 },
 "nbformat": 4,
 "nbformat_minor": 2
}
