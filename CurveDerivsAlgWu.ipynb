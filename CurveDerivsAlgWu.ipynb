{
 "cells": [
  {
   "cell_type": "code",
   "execution_count": 1,
   "metadata": {},
   "outputs": [],
   "source": [
    "import numpy as np\n",
    "import matplotlib.pyplot as plt\n",
    "import math"
   ]
  },
  {
   "cell_type": "markdown",
   "metadata": {},
   "source": [
    "## Function to find span of the knot in knot vector"
   ]
  },
  {
   "cell_type": "code",
   "execution_count": 2,
   "metadata": {},
   "outputs": [],
   "source": [
    "def FindSpan(n_inp,degree_inp,u_inp,knot_vector_inp):\n",
    "    x=knot_vector_inp[degree_inp+1]\n",
    "    if (u_inp < x):\n",
    "        return degree_inp\n",
    "    else:\n",
    "        for i,pos in enumerate(knot_vector_inp):\n",
    "            if math.floor(u_inp) == pos:\n",
    "                return (i)"
   ]
  },
  {
   "cell_type": "markdown",
   "metadata": {},
   "source": [
    "## Computing non zero basis functions and their derivatives"
   ]
  },
  {
   "cell_type": "code",
   "execution_count": 3,
   "metadata": {},
   "outputs": [],
   "source": [
    "# Derivatives are stored in ders[k][j]\n",
    "# ders[k][j] is the kth derivative of function N_(i-p+j,p)\n",
    "# If k>p the derivatives are zero.\n",
    "def DersBasisFuns(i,u,p,m,U):\n",
    "    #Inititation of dimentions for 2D matrices\n",
    "    ndu=np.zeros((p+1,p+1))\n",
    "    ders=np.zeros((p+1,p+1))\n",
    "    a=np.zeros((2,p+1))\n",
    "    left =np.zeros(p+2)\n",
    "    right =np.zeros(p+2)\n",
    "    \n",
    "    ndu[0][0]=1.0\n",
    "    for j in range(1,p+1):\n",
    "        left[j] = u - U[i+1-j]\n",
    "        right[j] = U[i+j] - u\n",
    "        saved=0.0\n",
    "        for r in range(j):\n",
    "            #Lower triangle\n",
    "            ndu[j][r] = right[r+1]+left[j-r]\n",
    "            temp=ndu[r][j-1]/ndu[j][r]\n",
    "            #Upper triangle\n",
    "            ndu[r][j] = saved+(right[r+1]*temp)\n",
    "            saved=left[j-r]*temp\n",
    "        ndu[j][j] = saved\n",
    "    for j in range (p+1): #Load the basis functions\n",
    "        ders[0][j]=ndu[j][p]\n",
    "    #This secion computes the derivatives\n",
    "    for r in range(p+1):\n",
    "        s1=0\n",
    "        s2=1 #Alternative rows in array a\n",
    "        a[0][0] = 1.0\n",
    "        #Loop to compute kth derivative\n",
    "        for k in range(1,m+1):\n",
    "            d=0.0\n",
    "            rk=r-k\n",
    "            pk=p-k\n",
    "            if(r>=k):\n",
    "                a[s2][0]=a[s1][0]/ndu[pk+1][rk]\n",
    "                d=a[s2][0]*ndu[rk][pk]\n",
    "            if(rk>=-1):\n",
    "                j1=1\n",
    "            else:\n",
    "                j1=-rk\n",
    "            if(r-1<=pk):\n",
    "                j2=k-1\n",
    "            else:\n",
    "                j2=p-r\n",
    "            for j in range (j1,j2+1):\n",
    "                a[s2][j] =(a[s1][j]-a[s1][j-1])/ndu[pk+1][rk+j]\n",
    "                d += (a[s2][j]*ndu[rk+j][pk])\n",
    "            if(r<=pk):\n",
    "                a[s2][k]=-a[s1][k-1]/ndu[pk+1][r]\n",
    "                d+=(a[s2][k]*ndu[r][pk])\n",
    "            ders[k][r]=d\n",
    "            #Switch rows\n",
    "            j=s1\n",
    "            s1=s2\n",
    "            s2=j\n",
    "            #Multiply through by the correct factors\n",
    "    r=p\n",
    "    for k in range(1,m+1):\n",
    "        for j in range(p+1):\n",
    "            ders[k][j] =ders[k][j]* r\n",
    "        r =r* (p-k)\n",
    "    return ders"
   ]
  },
  {
   "cell_type": "markdown",
   "metadata": {},
   "source": [
    "## Function to compute the point on a B-spline curve and all derivatives upto and including the $d_{th}$ at a fixed u value"
   ]
  },
  {
   "cell_type": "code",
   "execution_count": 23,
   "metadata": {},
   "outputs": [],
   "source": [
    "#An extra input W which contain weights of respective control points is given\n",
    "def CurveDerivsAlgAu(n,p,U,P,W,u,d):\n",
    "    du=min(d,p)\n",
    "    CK=np.zeros((du+1,2))\n",
    "    for k in range(p+1,d+1):\n",
    "        CK[k] = 0.0\n",
    "    span = FindSpan(n,p,u,U)\n",
    "    nders=DersBasisFuns(span,u,p,du,U)\n",
    "    for k in range(du+1):\n",
    "        CK[k] = 0.0\n",
    "        for j in range(p+1):\n",
    "            CK[k]=CK[k]+nders[k][j]\n",
    "            #print(nders[k][j])\n",
    "            #print(W[(span-p+j)]) #Print this to cross check the corresponding weights \n",
    "    return CK"
   ]
  },
  {
   "cell_type": "markdown",
   "metadata": {},
   "source": [
    "## Test case\n",
    "## Parameters"
   ]
  },
  {
   "cell_type": "code",
   "execution_count": 24,
   "metadata": {},
   "outputs": [],
   "source": [
    "# First 2 coloumns are x and y co-ordinates and 3rd coloumn are corresponding weights\n",
    "P_W = np.array([[0.,0.,1],[2.,0.,1],[1.,4.,1],[7.,4.,1],[5.,-2.,1],[8.,-2.,1],[8.,2.,1]])\n",
    "#P = np.array([[0.,0.],[2.,0.],[1.,4.],[7.,4.],[5.,-2.],[8.,-2.],[8.,2.]])\n",
    "#W = np.array([[1],[1],[1],[1],[1],[1],[1]])\n",
    "P = P_W[:,0:2]\n",
    "W = P_W[:,2]\n",
    "#U=np.array([0., 0., 0., 0., 1./4., 2./4., 3./4., 1.,1.,1.,1.])\n",
    "U=np.array([0., 0., 0., 0., 1., 2., 3., 4.,4.,4.,4.])\n",
    "control_points=7\n",
    "n=control_points-1\n",
    "d=2 #Generates results till 2nd derivative\n",
    "p=3 #Degree of the curve"
   ]
  },
  {
   "cell_type": "markdown",
   "metadata": {},
   "source": [
    "## Derivative at a single point 'u' on the curve"
   ]
  },
  {
   "cell_type": "code",
   "execution_count": 25,
   "metadata": {},
   "outputs": [
    {
     "name": "stdout",
     "output_type": "stream",
     "text": [
      "First derivative is: [0. 0.]\n",
      "Second derivative is: [1.11022302e-16 1.11022302e-16]\n"
     ]
    }
   ],
   "source": [
    "u=0.5\n",
    "derivatives=CurveDerivsAlgAu(n,p,U,P,W,u,d)\n",
    "print('First derivative is:',derivatives[1])\n",
    "print('Second derivative is:',derivatives[2])"
   ]
  },
  {
   "cell_type": "code",
   "execution_count": null,
   "metadata": {},
   "outputs": [],
   "source": []
  },
  {
   "cell_type": "code",
   "execution_count": null,
   "metadata": {},
   "outputs": [],
   "source": []
  }
 ],
 "metadata": {
  "kernelspec": {
   "display_name": "Python 3",
   "language": "python",
   "name": "python3"
  },
  "language_info": {
   "codemirror_mode": {
    "name": "ipython",
    "version": 3
   },
   "file_extension": ".py",
   "mimetype": "text/x-python",
   "name": "python",
   "nbconvert_exporter": "python",
   "pygments_lexer": "ipython3",
   "version": "3.7.4"
  }
 },
 "nbformat": 4,
 "nbformat_minor": 2
}
